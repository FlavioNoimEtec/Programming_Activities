{
  "nbformat": 4,
  "nbformat_minor": 0,
  "metadata": {
    "colab": {
      "provenance": [],
      "authorship_tag": "ABX9TyNsJ4CibGa8G2b4M7ryrzTp",
      "include_colab_link": true
    },
    "kernelspec": {
      "name": "python3",
      "display_name": "Python 3"
    },
    "language_info": {
      "name": "python"
    }
  },
  "cells": [
    {
      "cell_type": "markdown",
      "metadata": {
        "id": "view-in-github",
        "colab_type": "text"
      },
      "source": [
        "<a href=\"https://colab.research.google.com/github/FlavioNoimEtec/Programming_Activities/blob/main/TermoPython.ipynb\" target=\"_parent\"><img src=\"https://colab.research.google.com/assets/colab-badge.svg\" alt=\"Open In Colab\"/></a>"
      ]
    },
    {
      "cell_type": "code",
      "execution_count": null,
      "metadata": {
        "id": "JL0htFBalxoz"
      },
      "outputs": [],
      "source": [
        "import random\n",
        "\n",
        "palavras_possiveis = ['apple', 'mango', 'grape', 'peach', 'lemon', 'berry', 'cherry', 'melon', 'plums', 'pear']\n",
        "\n",
        "\n",
        "palavra_secreta = random.choice(palavras_possiveis)\n",
        "\n",
        "\n",
        "max_tentativas = 6\n",
        "tentativas = 0\n",
        "\n",
        "print(\"Bem-vindo ao jogo de adivinhação de palavras!\")\n",
        "print(\"Tente adivinhar a palavra secreta de 5 letras.\")\n",
        "\n",
        "while tentativas < max_tentativas:\n",
        "    tentativa = input(f\"\\nTentativa {tentativas + 1} de {max_tentativas}: \").lower()\n",
        "\n",
        "\n",
        "    if len(tentativa) != 5:\n",
        "        print(\"A palavra deve ter exatamente 5 letras!\")\n",
        "        continue\n",
        "\n",
        "\n",
        "    if tentativa not in palavras_possiveis:\n",
        "        print(\"Essa palavra não está na lista de palavras válidas!\")\n",
        "        continue\n",
        "\n",
        "    tentativas += 1\n",
        "\n",
        "\n",
        "    dica = []\n",
        "    for i in range(len(palavra_secreta)):\n",
        "        if tentativa[i] == palavra_secreta[i]:\n",
        "            dica.append(f'{tentativa[i].upper()}')\n",
        "        elif tentativa[i] in palavra_secreta:\n",
        "            dica.append(f'{tentativa[i].lower()}')\n",
        "        else:\n",
        "            dica.append('_')\n",
        "\n",
        "    print(\"Dica:\", ' '.join(dica))\n",
        "\n",
        "\n",
        "    if tentativa == palavra_secreta:\n",
        "        print(f\"Parabéns! Você acertou a palavra secreta: {palavra_secreta}\")\n",
        "        break\n",
        "else:\n",
        "    print(f\"\\nVocê perdeu! A palavra secreta era: {palavra_secreta}\")\n"
      ]
    }
  ]
}