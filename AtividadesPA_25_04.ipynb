{
  "nbformat": 4,
  "nbformat_minor": 0,
  "metadata": {
    "colab": {
      "provenance": [],
      "authorship_tag": "ABX9TyPWafj3nlz3qgm2xAEtxoql",
      "include_colab_link": true
    },
    "kernelspec": {
      "name": "python3",
      "display_name": "Python 3"
    },
    "language_info": {
      "name": "python"
    }
  },
  "cells": [
    {
      "cell_type": "markdown",
      "metadata": {
        "id": "view-in-github",
        "colab_type": "text"
      },
      "source": [
        "<a href=\"https://colab.research.google.com/github/FlavioNoimEtec/Programming_Activities/blob/main/AtividadesPA_25_04.ipynb\" target=\"_parent\"><img src=\"https://colab.research.google.com/assets/colab-badge.svg\" alt=\"Open In Colab\"/></a>"
      ]
    },
    {
      "cell_type": "markdown",
      "source": [
        "Exercício 1"
      ],
      "metadata": {
        "id": "AeqWbLpg0FEh"
      }
    },
    {
      "cell_type": "code",
      "execution_count": null,
      "metadata": {
        "id": "KeRKD8ExzN9a"
      },
      "outputs": [],
      "source": [
        "num = int(input(\"Digite um número: \"))\n",
        "par = num%2==0\n",
        "impar = num%2 != 0\n",
        "\n",
        "print(num,\"é par?\",par)\n",
        "print(num,\"é ímpar?\",impar)"
      ]
    },
    {
      "cell_type": "markdown",
      "source": [
        "Exercício 2\n"
      ],
      "metadata": {
        "id": "2Rc4-16c1Gwg"
      }
    },
    {
      "cell_type": "code",
      "source": [
        "l1 = float(input(\"Digite o primeiro lado: \"))\n",
        "l2 = float(input(\"Digite o segundo lado: \"))\n",
        "l3 = float(input(\"Digite o terceiro lado: \"))\n",
        "\n",
        "t1 = l1+l2>l3\n",
        "t2 = l2+l3>l1\n",
        "t3 = l3+l1>l2\n",
        "\n",
        "testereal=t1 and t2 and t3\n",
        "\n",
        "equilátero = l1==l2==l3\n",
        "t4= l1==l2!=l3\n",
        "t5= l1==l3!=l2\n",
        "t6= l3==l2!=l1\n",
        "isosceles = t4 or t5 or t6\n",
        "escaleno = l1 != l2 != l3\n",
        "\n",
        "\n",
        "\n",
        "\n",
        "print(\"É equilátero?\", equilátero, \",É Escaleno?\", escaleno, \",É isósceles?\", isosceles)\n",
        "print(\"pode ser um triângulo?\", testereal)\n",
        "\n"
      ],
      "metadata": {
        "collapsed": true,
        "id": "-d_zafI11IqI"
      },
      "execution_count": null,
      "outputs": []
    },
    {
      "cell_type": "markdown",
      "source": [
        "Exercício 3\n"
      ],
      "metadata": {
        "id": "IqDw06jtO3s0"
      }
    },
    {
      "cell_type": "code",
      "source": [
        "peso = float(input(\"Digite seu peso:\"))\n",
        "altura = float(input(\"Digite sua altura (Exemplo: 1,63 = 163):\"))\n",
        "imc = peso/(altura**2)\n",
        "\n",
        "abp= imc<=18.5\n",
        "pn= imc>18.5<24.9\n",
        "sbp= imc>25<29.9\n",
        "obes1= imc>30<34.9\n",
        "obes2= imc>35<39.9\n",
        "obes3= imc>40\n",
        "\n"
      ],
      "metadata": {
        "id": "N4f3TPx2O6vs"
      },
      "execution_count": null,
      "outputs": []
    }
  ]
}