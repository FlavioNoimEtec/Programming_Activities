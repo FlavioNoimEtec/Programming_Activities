{
 "cells": [
  {
   "cell_type": "markdown",
   "metadata": {
    "id": "oncsAo0QKXM4"
   },
   "source": [
    "Flávio Gustavo Noim De Santana"
   ]
  },
  {
   "cell_type": "markdown",
   "metadata": {
    "id": "2Wtw01VyHzBQ"
   },
   "source": [
    "1)Crie um programa em python que imprima números pares\n",
    "\n",
    "a) Pedir o usuário para digitar uma lista com mínimo 10 números\n",
    "\n",
    "b) Criar uma nova somente com numeros pares\n",
    "\n",
    "c) Imprimir números pares"
   ]
  },
  {
   "cell_type": "code",
   "execution_count": 2,
   "metadata": {
    "id": "iBpbyKp8KNKX"
   },
   "outputs": [
    {
     "name": "stdin",
     "output_type": "stream",
     "text": [
      "Digite uma lista de números com no mínimo 10 números 1\n",
      "Digite uma lista de números com no mínimo 10 números 2\n"
     ]
    },
    {
     "name": "stdout",
     "output_type": "stream",
     "text": [
      "[2]\n"
     ]
    },
    {
     "name": "stdin",
     "output_type": "stream",
     "text": [
      "Digite uma lista de números com no mínimo 10 números 3\n",
      "Digite uma lista de números com no mínimo 10 números 4\n"
     ]
    },
    {
     "name": "stdout",
     "output_type": "stream",
     "text": [
      "[2, 4]\n"
     ]
    },
    {
     "name": "stdin",
     "output_type": "stream",
     "text": [
      "Digite uma lista de números com no mínimo 10 números 5\n",
      "Digite uma lista de números com no mínimo 10 números 6\n"
     ]
    },
    {
     "name": "stdout",
     "output_type": "stream",
     "text": [
      "[2, 4, 6]\n"
     ]
    },
    {
     "name": "stdin",
     "output_type": "stream",
     "text": [
      "Digite uma lista de números com no mínimo 10 números 7\n",
      "Digite uma lista de números com no mínimo 10 números 8\n"
     ]
    },
    {
     "name": "stdout",
     "output_type": "stream",
     "text": [
      "[2, 4, 6, 8]\n"
     ]
    },
    {
     "name": "stdin",
     "output_type": "stream",
     "text": [
      "Digite uma lista de números com no mínimo 10 números 9\n",
      "Digite uma lista de números com no mínimo 10 números 10\n"
     ]
    },
    {
     "name": "stdout",
     "output_type": "stream",
     "text": [
      "[2, 4, 6, 8, 10]\n"
     ]
    }
   ],
   "source": [
    "pares = []\n",
    "for i in range(10):\n",
    "    num = int(input(\"Digite uma lista de números com no mínimo 10 números\"))\n",
    "    if num % 2 == 0:\n",
    "        pares.append(num)\n",
    "        print(pares)"
   ]
  },
  {
   "cell_type": "markdown",
   "metadata": {
    "id": "bBYPSr8JHpUA"
   },
   "source": [
    "2)Crie um programa que conte quantas vezes cada palavra aparece em uma frase.\n",
    "\n",
    "Pedir ao usuário para digitar uma frase. Imprimir a palavra e quantas vezes ela aparece"
   ]
  },
  {
   "cell_type": "code",
   "execution_count": 4,
   "metadata": {
    "id": "dQLlv-lPKPT4"
   },
   "outputs": [
    {
     "name": "stdin",
     "output_type": "stream",
     "text": [
      "Digite uma frase:  Guilherme guilherme\n"
     ]
    },
    {
     "name": "stdout",
     "output_type": "stream",
     "text": [
      "'guilherme' aparece 2 vez(es).\n"
     ]
    }
   ],
   "source": [
    "frase_usuario = input(\"Digite uma frase: \").lower()\n",
    "\n",
    "palavras = frase_usuario.split()\n",
    "\n",
    "contagem = {}\n",
    "\n",
    "for palavra in palavras:\n",
    "    \n",
    "    if palavra in contagem:\n",
    "        contagem[palavra] += 1\n",
    "    else:\n",
    "        contagem[palavra] = 1\n",
    "\n",
    "for palavra, quantidade in contagem.items():\n",
    "    print(f\"'{palavra}' aparece {quantidade} vez(es).\")\n"
   ]
  },
  {
   "cell_type": "markdown",
   "metadata": {
    "id": "bbWz0aL2HjP3"
   },
   "source": [
    "3)Crie um programa em Python para avaliar um desfile de candidatas. O programa deve:\n",
    "\n",
    "a) Perguntar quantas candidatas vão participar.\n",
    "\n",
    "b) Perguntar o nome de cada candidata.\n",
    "\n",
    "c) Para cada candidata, receber 3 notas (uma de cada jurado).\n",
    "\n",
    "d) Somar as notas e guardar o total em um dicionário, onde a chave é o nome da candidata e o valor é a soma das notas.\n",
    "\n",
    "Mostrar ao final:\n",
    "\n",
    "a) A pontuação total de cada candidata.\n",
    "\n",
    "b) O nome da vencedora (a que tiver a maior pontuação)."
   ]
  },
  {
   "cell_type": "code",
   "execution_count": 10,
   "metadata": {
    "id": "wrhGujbvHebJ"
   },
   "outputs": [
    {
     "name": "stdin",
     "output_type": "stream",
     "text": [
      "Quantas candidatas vão participar?  3\n",
      "Digite o nome da candidata:  Julia\n",
      "Digite a primeira nota de Julia:  1\n",
      "Digite a segunda nota de Julia:  2\n",
      "Digite a terceira nota de Julia:  3\n",
      "Digite o nome da candidata:  Maria\n",
      "Digite a primeira nota de Maria:  4\n",
      "Digite a segunda nota de Maria:  5\n",
      "Digite a terceira nota de Maria:  6\n",
      "Digite o nome da candidata:  Emily\n",
      "Digite a primeira nota de Emily:  7\n",
      "Digite a segunda nota de Emily:  8\n",
      "Digite a terceira nota de Emily:  9\n"
     ]
    },
    {
     "name": "stdout",
     "output_type": "stream",
     "text": [
      "\n",
      "Pontuação total de cada candidata:\n",
      "Julia: 6.0\n",
      "Maria: 15.0\n",
      "Emily: 24.0\n",
      "\n",
      "A vencedora é Emily com 24.0 pontos!\n"
     ]
    }
   ],
   "source": [
    "num_candidatas = int(input(\"Quantas candidatas vão participar? \"))\n",
    "\n",
    "notas_totais = {}\n",
    "\n",
    "for _ in range(num_candidatas):\n",
    "    nome = input(\"Digite o nome da candidata: \")\n",
    "    \n",
    "    nota1 = float(input(f\"Digite a primeira nota de {nome}: \"))\n",
    "    nota2 = float(input(f\"Digite a segunda nota de {nome}: \"))\n",
    "    nota3 = float(input(f\"Digite a terceira nota de {nome}: \"))\n",
    "    \n",
    "    total_notas = nota1 + nota2 + nota3\n",
    "    \n",
    "    notas_totais[nome] = total_notas\n",
    "    \n",
    "print(\"\\nPontuação total de cada candidata:\")\n",
    "for nome, total in notas_totais.items():\n",
    "    print(f\"{nome}: {total}\")\n",
    "\n",
    "vencedora = max(notas_totais, key=notas_totais.get)\n",
    "pontuacao_vencedora = notas_totais[vencedora]\n",
    "\n",
    "print(f\"\\nA vencedora é {vencedora} com {pontuacao_vencedora} pontos!\")\n"
   ]
  },
  {
   "cell_type": "code",
   "execution_count": null,
   "metadata": {},
   "outputs": [],
   "source": []
  }
 ],
 "metadata": {
  "colab": {
   "provenance": []
  },
  "kernelspec": {
   "display_name": "Python 3 (ipykernel)",
   "language": "python",
   "name": "python3"
  },
  "language_info": {
   "codemirror_mode": {
    "name": "ipython",
    "version": 3
   },
   "file_extension": ".py",
   "mimetype": "text/x-python",
   "name": "python",
   "nbconvert_exporter": "python",
   "pygments_lexer": "ipython3",
   "version": "3.11.4"
  }
 },
 "nbformat": 4,
 "nbformat_minor": 4
}
