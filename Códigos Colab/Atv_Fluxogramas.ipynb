{
  "nbformat": 4,
  "nbformat_minor": 0,
  "metadata": {
    "colab": {
      "provenance": []
    },
    "kernelspec": {
      "name": "python3",
      "display_name": "Python 3"
    },
    "language_info": {
      "name": "python"
    }
  },
  "cells": [
    {
      "cell_type": "markdown",
      "source": [
        "Exemplos:"
      ],
      "metadata": {
        "id": "i8sWE3J7jGuq"
      }
    },
    {
      "cell_type": "markdown",
      "source": [
        "Cálculo De Média"
      ],
      "metadata": {
        "id": "3FP9UcJ-mQrC"
      }
    },
    {
      "cell_type": "code",
      "source": [
        "#Recebe as notas\n",
        "num1 = float(input(\"Digite a primeira nota:\" ))\n",
        "num2 = float(input(\"Digite a segunda nota:\" ))\n",
        "\n",
        "#Calcula a média\n",
        "media = (num1 + num2)/2\n",
        "\n",
        "#Mostra a média\n",
        "print(\"A média desses números é:\", media)"
      ],
      "metadata": {
        "id": "LgBafXZjjNyT"
      },
      "execution_count": null,
      "outputs": []
    },
    {
      "cell_type": "markdown",
      "source": [
        "Conversão de Moeda"
      ],
      "metadata": {
        "id": "nohu0-9BmC5Q"
      }
    },
    {
      "cell_type": "code",
      "source": [
        "#Recebe a cotação da moeda\n",
        "cotacao = float(input(\"Qual é a cotação dessa moeda hoje?\"))\n",
        "valorreais = float(input(\"Quantos reais você deseja converter?\"))\n",
        "\n",
        "#Converte para a outra moeda\n",
        "conversao = valorreais / cotacao\n",
        "\n",
        "#Mostra o resultado\n",
        "print(\"Convertendo, você tem:\", conversao, \"dessa determinada moeda\")"
      ],
      "metadata": {
        "id": "nvO3DWcpkJWC"
      },
      "execution_count": null,
      "outputs": []
    },
    {
      "cell_type": "markdown",
      "source": [
        "Comissão\n"
      ],
      "metadata": {
        "id": "ANG6ow-alpCd"
      }
    },
    {
      "cell_type": "code",
      "source": [
        "#Recebe o preço unitário e a quantidade vendida\n",
        "valor = float(input(\"Qual o valor da peça?\"))\n",
        "qtde = float(input(\"Qual a quantidade de peças?\"))\n",
        "porcent = float(input(\"Qual a porcentagem da comissão?\"))\n",
        "\n",
        "#Calcula o valor total de venda e a comissão\n",
        "venda = valor * qtde\n",
        "comissao = venda * porcent/100\n",
        "\n",
        "#Mostra os resultados\n",
        "print(\"Sua comissão é de:\", comissao)"
      ],
      "metadata": {
        "id": "EeWfElgclr0G"
      },
      "execution_count": null,
      "outputs": []
    },
    {
      "cell_type": "markdown",
      "source": [
        "Atividades"
      ],
      "metadata": {
        "id": "_QSj--EooW_R"
      }
    },
    {
      "cell_type": "markdown",
      "source": [
        "Exercício 1 - Valor de um carro ao consumidor"
      ],
      "metadata": {
        "id": "BnaAkfUcqVnf"
      }
    },
    {
      "cell_type": "code",
      "source": [
        "valorcarro = float(input(\"Qual o custo de fábrica do carro?\"))\n",
        "impostos = (valorcarro*45/100) + valorcarro\n",
        "valorfinal = (impostos*28/100) + impostos\n",
        "print (\"O valor para o consumidor será de:\", valorfinal)"
      ],
      "metadata": {
        "id": "07sUUWNqocxy",
        "colab": {
          "base_uri": "https://localhost:8080/"
        },
        "outputId": "3b01894b-9df7-434d-8cb4-79a63aa84780"
      },
      "execution_count": null,
      "outputs": [
        {
          "output_type": "stream",
          "name": "stdout",
          "text": [
            "Qual o custo de fábrica do carro?25000\n",
            "O valor para o consumidor será de: 46400.0\n"
          ]
        }
      ]
    },
    {
      "cell_type": "markdown",
      "source": [
        "Exercício 2 - Conversão de minutos e horas em segundos"
      ],
      "metadata": {
        "id": "RE5kpkq7tz6J"
      }
    },
    {
      "cell_type": "code",
      "source": [
        "hora = int(input(\"Digite as horas: \"))\n",
        "minutos = int(input(\"Digite os minutos: \"))\n",
        "conversao = hora + (minutos/60)\n",
        "print(\"Covertendo para decimais, temos:\", conversao)"
      ],
      "metadata": {
        "id": "0tEHu69tt_dC"
      },
      "execution_count": null,
      "outputs": []
    },
    {
      "cell_type": "markdown",
      "source": [
        "Exerício 3 - Cálculo de Horas Extras"
      ],
      "metadata": {
        "id": "jz44Nf9Yx5m2"
      }
    },
    {
      "cell_type": "code",
      "source": [
        "hor = int(input(\"Quantas horas você trabalhou?\"))\n",
        "min = int(input(\"Quantos minutos você trabalhou?\"))\n",
        "valorhora = float(input(\"Quanto você ganha por hora?\"))\n",
        "\n",
        "convert = hora + (min/60)\n",
        "salario = convert * valorhora\n",
        "horaextra = (salario*70 /100) + salario\n",
        "\n",
        "print(\"Voce ganhou com horas extras:\", horaextra)"
      ],
      "metadata": {
        "colab": {
          "base_uri": "https://localhost:8080/"
        },
        "id": "hOFzujejx_G_",
        "outputId": "51a624b5-8b58-4e97-baf4-78bce2ac13ad"
      },
      "execution_count": null,
      "outputs": [
        {
          "output_type": "stream",
          "name": "stdout",
          "text": [
            "Quantas horas você trabalhou?20\n",
            "Quantos minutos você trabalhou?0\n",
            "Quanto você ganha por hora?25\n",
            "Voce ganhou com horas extras: 850.0\n"
          ]
        }
      ]
    },
    {
      "cell_type": "markdown",
      "source": [
        "Exercícios Extras"
      ],
      "metadata": {
        "id": "wiwnk4R70S24"
      }
    },
    {
      "cell_type": "markdown",
      "source": [
        "Exercício 4 - Calculo de Investimento em CDB"
      ],
      "metadata": {
        "id": "1ARZUavQ9ASI"
      }
    },
    {
      "cell_type": "code",
      "source": [
        "#Fórmula do cálculo:  M=C×(1+i)**t (O t é potência)\n",
        "capitalinicial = float(input(\"Quanto você vai investir?\"))\n",
        "taxajuros = float(input(\"Qual a taxa de juros anual?\"))\n",
        "tempo = float(input(\"Por quantos anos você pretende investir?\"))\n",
        "\n",
        "m = capitalinicial*(1+taxajuros)**tempo\n",
        "\n",
        "print(\"No final desse tempo, o montante final será de:\", m)"
      ],
      "metadata": {
        "colab": {
          "base_uri": "https://localhost:8080/"
        },
        "id": "_MOG3z3L0W4A",
        "outputId": "b0555820-5a6c-4183-e0a2-9a5c5f8a6358"
      },
      "execution_count": null,
      "outputs": [
        {
          "output_type": "stream",
          "name": "stdout",
          "text": [
            "Quanto você vai investir?1000\n",
            "Qual a taxa de juros anual?0.06\n",
            "Por quantos anos você pretende investir?5\n",
            "No final desse tempo, o montante final será de: 1338.2255776000002\n"
          ]
        }
      ]
    },
    {
      "cell_type": "markdown",
      "source": [
        "Exercício 5 - Divisão de Conta em um Restaurante com Gorjeta\n"
      ],
      "metadata": {
        "id": "39Bw58hEElB_"
      }
    },
    {
      "cell_type": "code",
      "source": [
        "valorconta = float(input(\"Qual o valor total da conta?\"))\n",
        "valorgorjeta = float(input(\"Qual o valor da gorjeta\"))\n",
        "pessoas = int(input(\"Vocês estão em quantas pessoas?\"))\n",
        "\n",
        "taxa = (valorconta*10 /100) + valorconta\n",
        "valortotal = taxa + valorgorjeta\n",
        "final = valortotal / pessoas\n",
        "\n",
        "print(\"Sairá\", final, \"reais para cada um\")"
      ],
      "metadata": {
        "colab": {
          "base_uri": "https://localhost:8080/"
        },
        "id": "6OIxX3y7EsQA",
        "outputId": "87f85833-85db-4d5c-96a0-64b837270638"
      },
      "execution_count": null,
      "outputs": [
        {
          "output_type": "stream",
          "name": "stdout",
          "text": [
            "Qual o valor total da conta?200\n",
            "Qual o valor da gorjeta50\n",
            "Vocês estão em quantas pessoas?4\n",
            "Sairá 67.5 reais para cada um\n"
          ]
        }
      ]
    }
  ]
}