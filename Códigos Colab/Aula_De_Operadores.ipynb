{
  "nbformat": 4,
  "nbformat_minor": 0,
  "metadata": {
    "colab": {
      "provenance": []
    },
    "kernelspec": {
      "name": "python3",
      "display_name": "Python 3"
    },
    "language_info": {
      "name": "python"
    }
  },
  "cells": [
    {
      "cell_type": "code",
      "execution_count": null,
      "metadata": {
        "id": "oIvO6KhfdvtG"
      },
      "outputs": [],
      "source": [
        "l = 4\n",
        "a = l * l\n",
        "print(\"a area do quadrado é:\",a)"
      ]
    },
    {
      "cell_type": "markdown",
      "source": [
        "Adição"
      ],
      "metadata": {
        "id": "2Dr1BcLIiMjN"
      }
    },
    {
      "cell_type": "code",
      "source": [
        "2 + 2"
      ],
      "metadata": {
        "id": "A7wdxtBjiBSs"
      },
      "execution_count": null,
      "outputs": []
    },
    {
      "cell_type": "markdown",
      "source": [
        "Subtração"
      ],
      "metadata": {
        "id": "wokncltNiQm-"
      }
    },
    {
      "cell_type": "code",
      "source": [
        "7 - 6"
      ],
      "metadata": {
        "colab": {
          "base_uri": "https://localhost:8080/"
        },
        "id": "SoxgYVj4iTU1",
        "outputId": "bdd15b7b-6f13-422b-9467-83bfc6c08bf9"
      },
      "execution_count": null,
      "outputs": [
        {
          "output_type": "execute_result",
          "data": {
            "text/plain": [
              "1"
            ]
          },
          "metadata": {},
          "execution_count": 11
        }
      ]
    },
    {
      "cell_type": "markdown",
      "source": [
        "Multiplicação"
      ],
      "metadata": {
        "id": "DYCmxU42iV01"
      }
    },
    {
      "cell_type": "code",
      "source": [
        "5 * 6"
      ],
      "metadata": {
        "colab": {
          "base_uri": "https://localhost:8080/"
        },
        "id": "sQe52rKJiXw1",
        "outputId": "01fb77f9-a2c4-4612-ebd5-5ff7cd5911d6"
      },
      "execution_count": null,
      "outputs": [
        {
          "output_type": "execute_result",
          "data": {
            "text/plain": [
              "30"
            ]
          },
          "metadata": {},
          "execution_count": 12
        }
      ]
    },
    {
      "cell_type": "markdown",
      "source": [
        "Divisão"
      ],
      "metadata": {
        "id": "fwdq9_38iZfO"
      }
    },
    {
      "cell_type": "code",
      "source": [
        "4/5"
      ],
      "metadata": {
        "colab": {
          "base_uri": "https://localhost:8080/"
        },
        "id": "_SMELLXvibvM",
        "outputId": "3514c7e8-561b-414d-8a30-bc6493b317c6"
      },
      "execution_count": null,
      "outputs": [
        {
          "output_type": "execute_result",
          "data": {
            "text/plain": [
              "0.8"
            ]
          },
          "metadata": {},
          "execution_count": 13
        }
      ]
    },
    {
      "cell_type": "markdown",
      "source": [
        "Igualdade"
      ],
      "metadata": {
        "id": "YJ9oNgSBihm0"
      }
    },
    {
      "cell_type": "code",
      "source": [
        "a = 4\n",
        "a==3"
      ],
      "metadata": {
        "id": "zsF1u9vuimGF"
      },
      "execution_count": null,
      "outputs": []
    },
    {
      "cell_type": "markdown",
      "source": [
        "Expoente"
      ],
      "metadata": {
        "id": "EZzpyEMujaDs"
      }
    },
    {
      "cell_type": "code",
      "source": [
        "# dois asteriscos representam expoente, ou seja, o 4 está elevado a 3\n",
        "4**3"
      ],
      "metadata": {
        "id": "lQKDakEYjb7Y"
      },
      "execution_count": null,
      "outputs": []
    },
    {
      "cell_type": "markdown",
      "source": [
        "Maior, Menor, Maior igual e Menor igual"
      ],
      "metadata": {
        "id": "m1cCqJ0vj1w6"
      }
    },
    {
      "cell_type": "code",
      "source": [
        "5>2\n"
      ],
      "metadata": {
        "colab": {
          "base_uri": "https://localhost:8080/"
        },
        "id": "dX4qvR2Qj9o6",
        "outputId": "301952b5-86b5-4e70-a02e-989764a97af6"
      },
      "execution_count": null,
      "outputs": [
        {
          "output_type": "execute_result",
          "data": {
            "text/plain": [
              "True"
            ]
          },
          "metadata": {},
          "execution_count": 29
        }
      ]
    },
    {
      "cell_type": "code",
      "source": [
        "5>6"
      ],
      "metadata": {
        "colab": {
          "base_uri": "https://localhost:8080/"
        },
        "id": "w24Xtzzfku_a",
        "outputId": "4e512d54-6f60-4a52-caa3-98e0ac879869"
      },
      "execution_count": null,
      "outputs": [
        {
          "output_type": "execute_result",
          "data": {
            "text/plain": [
              "False"
            ]
          },
          "metadata": {},
          "execution_count": 32
        }
      ]
    },
    {
      "cell_type": "code",
      "source": [
        "5<6"
      ],
      "metadata": {
        "colab": {
          "base_uri": "https://localhost:8080/"
        },
        "id": "X-f5xj1jk7EJ",
        "outputId": "66dbba70-0d99-4462-ead9-a087d9ecd79f"
      },
      "execution_count": null,
      "outputs": [
        {
          "output_type": "execute_result",
          "data": {
            "text/plain": [
              "True"
            ]
          },
          "metadata": {},
          "execution_count": 39
        }
      ]
    },
    {
      "cell_type": "code",
      "source": [
        "5<4"
      ],
      "metadata": {
        "colab": {
          "base_uri": "https://localhost:8080/"
        },
        "id": "5g579LR9lZmh",
        "outputId": "b1da3d75-d95f-433f-d1e8-4822e0b20bcf"
      },
      "execution_count": null,
      "outputs": [
        {
          "output_type": "execute_result",
          "data": {
            "text/plain": [
              "False"
            ]
          },
          "metadata": {},
          "execution_count": 40
        }
      ]
    },
    {
      "cell_type": "code",
      "source": [
        "5>=5"
      ],
      "metadata": {
        "colab": {
          "base_uri": "https://localhost:8080/"
        },
        "id": "jQ9_dwGSlvex",
        "outputId": "2269661d-df76-409d-9755-1ebfcbd02006"
      },
      "execution_count": null,
      "outputs": [
        {
          "output_type": "execute_result",
          "data": {
            "text/plain": [
              "True"
            ]
          },
          "metadata": {},
          "execution_count": 49
        }
      ]
    },
    {
      "cell_type": "code",
      "source": [
        "5-6+8+15*(6/2)+4-9"
      ],
      "metadata": {
        "colab": {
          "base_uri": "https://localhost:8080/"
        },
        "id": "PVy6YkX2meOv",
        "outputId": "6f51694f-f01b-4291-cb74-1b5b025c9de7"
      },
      "execution_count": null,
      "outputs": [
        {
          "output_type": "execute_result",
          "data": {
            "text/plain": [
              "47.0"
            ]
          },
          "metadata": {},
          "execution_count": 51
        }
      ]
    },
    {
      "cell_type": "markdown",
      "source": [
        "Diferente"
      ],
      "metadata": {
        "id": "BSJ8xdXynkwI"
      }
    },
    {
      "cell_type": "code",
      "source": [
        "a!=4"
      ],
      "metadata": {
        "colab": {
          "base_uri": "https://localhost:8080/"
        },
        "id": "pKIO0nh-nmug",
        "outputId": "3d482260-98c8-49b8-e204-32e8ba816f6a"
      },
      "execution_count": null,
      "outputs": [
        {
          "output_type": "execute_result",
          "data": {
            "text/plain": [
              "False"
            ]
          },
          "metadata": {},
          "execution_count": 56
        }
      ]
    },
    {
      "cell_type": "markdown",
      "source": [
        "Variáveis"
      ],
      "metadata": {
        "id": "HJlzU53hnqlY"
      }
    },
    {
      "cell_type": "code",
      "source": [
        "nome = \"Flavio\"\n",
        "sobrenome = \"Noim\"\n",
        "\n",
        "print(\"Meu nome é\", nome, sobrenome)"
      ],
      "metadata": {
        "colab": {
          "base_uri": "https://localhost:8080/"
        },
        "id": "WVYT0Vgdnsmd",
        "outputId": "ad9be68f-75d1-4f96-cc75-43c1aef59af2"
      },
      "execution_count": null,
      "outputs": [
        {
          "output_type": "stream",
          "name": "stdout",
          "text": [
            "Meu nome é Flavio Noim\n"
          ]
        }
      ]
    },
    {
      "cell_type": "code",
      "source": [
        "nome = str(input(\"Digite seu nome:\"))\n",
        "sobrenome = str(input(\"Digite seu sobrenome:\"))\n",
        "print(\"Seu nome é :\", nome, sobrenome)"
      ],
      "metadata": {
        "colab": {
          "base_uri": "https://localhost:8080/"
        },
        "id": "Pn5Q26ZArjrU",
        "outputId": "03415821-875c-4efa-b6cc-2c837251e868"
      },
      "execution_count": null,
      "outputs": [
        {
          "output_type": "stream",
          "name": "stdout",
          "text": [
            "Digite seu nome:Ronaldo\n",
            "Digite seu sobrenome:Fenomeno\n",
            "Seu nome é : Ronaldo Fenomeno\n"
          ]
        }
      ]
    },
    {
      "cell_type": "code",
      "source": [
        "print (nome)"
      ],
      "metadata": {
        "colab": {
          "base_uri": "https://localhost:8080/"
        },
        "id": "FMJ1dr5es0pp",
        "outputId": "69f26fd4-0d68-400c-eea7-3fe55533f669"
      },
      "execution_count": null,
      "outputs": [
        {
          "output_type": "stream",
          "name": "stdout",
          "text": [
            "Lionel\n"
          ]
        }
      ]
    },
    {
      "cell_type": "code",
      "source": [
        "print(nome)"
      ],
      "metadata": {
        "colab": {
          "base_uri": "https://localhost:8080/"
        },
        "id": "ibqAKCKdtdhY",
        "outputId": "223ff7bd-8c1d-4e6f-ac9d-a487eeb82f0c"
      },
      "execution_count": null,
      "outputs": [
        {
          "output_type": "stream",
          "name": "stdout",
          "text": [
            "Ronaldo\n"
          ]
        }
      ]
    },
    {
      "cell_type": "code",
      "source": [
        "#entrada\n",
        "lado = float(input(\"Digite o lado do quadrado:\"))\n",
        "\n",
        "#processamento\n",
        "area = lado * lado\n",
        "\n",
        "#saída\n",
        "print(\"A area do quadrado é:\", area)"
      ],
      "metadata": {
        "colab": {
          "base_uri": "https://localhost:8080/"
        },
        "id": "QxZ-LrTotsRE",
        "outputId": "7f641416-56a1-4d75-d8e5-bf109d539a9c"
      },
      "execution_count": null,
      "outputs": [
        {
          "output_type": "stream",
          "name": "stdout",
          "text": [
            "Digite o lado do quadrado:3\n",
            "A area do quadrado é: 9.0\n"
          ]
        }
      ]
    },
    {
      "cell_type": "markdown",
      "source": [
        "Area Do Circulo\n"
      ],
      "metadata": {
        "id": "AnDLQk0L2pUw"
      }
    },
    {
      "cell_type": "code",
      "source": [
        "#Usamos ponto ao invés de vírgula para que o código não entenda como concatenação\n",
        "pi = 3.14\n",
        "\n",
        "r = float(input(\"Qual o raio do seu círculo\"))\n",
        "areac = r**2 * pi\n",
        "print(\"A area do seu círculo é :\", areac)"
      ],
      "metadata": {
        "colab": {
          "base_uri": "https://localhost:8080/"
        },
        "id": "JeUGAEL42rnR",
        "outputId": "144cc3f7-af19-4a8b-cf2a-efe9b526240b"
      },
      "execution_count": null,
      "outputs": [
        {
          "output_type": "stream",
          "name": "stdout",
          "text": [
            "Qual o raio do seu círculo5\n",
            "A area do seu círculo é : 78.5\n"
          ]
        }
      ]
    }
  ]
}