{
  "nbformat": 4,
  "nbformat_minor": 0,
  "metadata": {
    "colab": {
      "provenance": [],
      "authorship_tag": "ABX9TyMZVIrxDnVu3IxLh24oNf2X",
      "include_colab_link": true
    },
    "kernelspec": {
      "name": "python3",
      "display_name": "Python 3"
    },
    "language_info": {
      "name": "python"
    }
  },
  "cells": [
    {
      "cell_type": "markdown",
      "metadata": {
        "id": "view-in-github",
        "colab_type": "text"
      },
      "source": [
        "<a href=\"https://colab.research.google.com/github/FlavioNoimEtec/Programming_Activities/blob/main/PA_06_06.ipynb\" target=\"_parent\"><img src=\"https://colab.research.google.com/assets/colab-badge.svg\" alt=\"Open In Colab\"/></a>"
      ]
    },
    {
      "cell_type": "markdown",
      "source": [
        "Exercício 1 - Número Positivo ou Negativo\n"
      ],
      "metadata": {
        "id": "3PJdYrfeZDwO"
      }
    },
    {
      "cell_type": "code",
      "execution_count": null,
      "metadata": {
        "id": "w9ZrZI0vYyJx"
      },
      "outputs": [],
      "source": [
        "numero = float(input(\"Digite um número: \"))\n",
        "\n",
        "if numero > 0:\n",
        "    print(\"O número é positivo.\")\n",
        "elif numero < 0:\n",
        "    print(\"O número é negativo.\")\n",
        "else:\n",
        "    print(\"O número é zero.\")"
      ]
    },
    {
      "cell_type": "markdown",
      "source": [
        "Exercício 2 - Par ou Ímpar"
      ],
      "metadata": {
        "id": "zsUVw5ShZaMx"
      }
    },
    {
      "cell_type": "code",
      "source": [
        "num = int(input(\"Digite um número: \"))\n",
        "\n",
        "if num % 2 == 0:\n",
        "    print(\"O número é par.\")\n",
        "else:\n",
        "    print(\"O número é ímpar.\")"
      ],
      "metadata": {
        "id": "yfper3oxZgPw"
      },
      "execution_count": null,
      "outputs": []
    },
    {
      "cell_type": "markdown",
      "source": [
        "Exercício 3 - Verificar maior de idade"
      ],
      "metadata": {
        "id": "P2lUgIxzZlEw"
      }
    },
    {
      "cell_type": "code",
      "source": [
        "id = int(input(\"Digite sua idade: \"))\n",
        "\n",
        "if id >= 18:\n",
        "    print(\"Você é maior de idade.\")\n",
        "else:\n",
        "    print(\"Você é menor de idade.\")"
      ],
      "metadata": {
        "id": "TCMQEaI0Zq_h"
      },
      "execution_count": null,
      "outputs": []
    },
    {
      "cell_type": "markdown",
      "source": [
        "Exercício 4 - Senha correta"
      ],
      "metadata": {
        "id": "zgIXIs62aBUw"
      }
    },
    {
      "cell_type": "code",
      "source": [
        "senha = input(\"Digite a senha: \")\n",
        "\n",
        "if senha == \"1234\":\n",
        "    print(\"Acesso permitido.\")\n",
        "else:\n",
        "    print(\"Senha incorreta.\")"
      ],
      "metadata": {
        "id": "OGejjdzZaGgB"
      },
      "execution_count": null,
      "outputs": []
    },
    {
      "cell_type": "markdown",
      "source": [
        "Exercício 5 - Nota e Aprovação"
      ],
      "metadata": {
        "id": "q4yqAjdRaS0w"
      }
    },
    {
      "cell_type": "code",
      "source": [
        "nota = float(input(\"Digite a nota do aluno (0 a 10): \"))\n",
        "\n",
        "if nota < 0 or nota > 10:\n",
        "    print(\"Nota inválida. Digite um valor entre 0 e 10.\")\n",
        "\n",
        "elif nota >= 6:\n",
        "    print(\"Aluno aprovado!\")\n",
        "else:\n",
        "    print(\"Aluno reprovado.\")"
      ],
      "metadata": {
        "id": "oielSQDgaXWA"
      },
      "execution_count": null,
      "outputs": []
    },
    {
      "cell_type": "markdown",
      "source": [
        "Exercício 6 - Múltiplo de 3 e/ou 5"
      ],
      "metadata": {
        "id": "y75v_0NEaitB"
      }
    },
    {
      "cell_type": "code",
      "source": [
        "numero = int(input(\"Digite um número: \"))\n",
        "\n",
        "if numero % 3 == 0 and numero % 5 == 0:\n",
        "    print(\"O número é múltiplo de 3 e 5.\")\n",
        "elif numero % 3 == 0:\n",
        "    print(\"O número é múltiplo de 3.\")\n",
        "elif numero % 5 == 0:\n",
        "    print(\"O número é múltiplo de 5.\")\n",
        "else:\n",
        "    print(\"O número não é múltiplo de 3 nem de 5.\")"
      ],
      "metadata": {
        "id": "8wpeMzvNaw2b"
      },
      "execution_count": null,
      "outputs": []
    },
    {
      "cell_type": "markdown",
      "source": [
        "Exercício 7 - Número dentro de Intervalo"
      ],
      "metadata": {
        "id": "TI4bx4Ssa3Eq"
      }
    },
    {
      "cell_type": "code",
      "source": [
        "numero = float(input(\"Digite um número:\n",
        "\n",
        "if 10 <= numero <= 20:\n",
        "    print(\"O número está dentro do intervalo de 10 a 20.\")\n",
        "else:\n",
        "    print(\"O número está fora do intervalo de 10 a 20.\")"
      ],
      "metadata": {
        "id": "Fp2ORjSVa-Fv"
      },
      "execution_count": null,
      "outputs": []
    },
    {
      "cell_type": "markdown",
      "source": [
        "Exercício 8 - Classificação do Triângulo"
      ],
      "metadata": {
        "id": "SSNTe1G7bB9I"
      }
    },
    {
      "cell_type": "code",
      "source": [
        "lado1 = float(input(\"Digite o primeiro lado do triângulo: \"))\n",
        "lado2 = float(input(\"Digite o segundo lado do triângulo: \"))\n",
        "lado3 = float(input(\"Digite o terceiro lado do triângulo: \"))\n",
        "\n",
        "if (lado1 + lado2 > lado3) and (lado1 + lado3 > lado2) and (lado2 + lado3 > lado1):\n",
        "\n",
        "    if lado1 == lado2 == lado3:\n",
        "        print(\"Triângulo Equilátero (3 lados iguais).\")\n",
        "    elif lado1 == lado2 or lado1 == lado3 or lado2 == lado3:\n",
        "        print(\"Triângulo Isósceles (2 lados iguais).\")\n",
        "    else:\n",
        "        print(\"Triângulo Escaleno (3 lados diferentes).\")\n",
        "else:\n",
        "    print(\"Não é possível formar um triângulo com esses lados.\")"
      ],
      "metadata": {
        "id": "5xv_JJNDbI7Y"
      },
      "execution_count": null,
      "outputs": []
    }
  ]
}