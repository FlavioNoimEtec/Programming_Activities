{
  "nbformat": 4,
  "nbformat_minor": 0,
  "metadata": {
    "colab": {
      "provenance": [],
      "authorship_tag": "ABX9TyNSoU6DILuHvvYV0BO67kEm",
      "include_colab_link": true
    },
    "kernelspec": {
      "name": "python3",
      "display_name": "Python 3"
    },
    "language_info": {
      "name": "python"
    }
  },
  "cells": [
    {
      "cell_type": "markdown",
      "metadata": {
        "id": "view-in-github",
        "colab_type": "text"
      },
      "source": [
        "<a href=\"https://colab.research.google.com/github/FlavioNoimEtec/Programming_Activities/blob/main/ListaTeams.ipynb\" target=\"_parent\"><img src=\"https://colab.research.google.com/assets/colab-badge.svg\" alt=\"Open In Colab\"/></a>"
      ]
    },
    {
      "cell_type": "markdown",
      "source": [
        "1) MOSTRAR TODOS OS NÚMEROS ÍMPARES DE 1 A 30\n",
        "Escreva um algoritmo que leia 20 valores inteiros e ao final exiba:\n",
        "a) a soma dos números positivos;\n",
        "\n",
        "b) a quantidade de valores negativos.\n",
        "\n",
        "2) CONTADOR DE UM NÚMERO INCIAL E UM NÚMERO FINAL DIGITADOS PELO USUÁRIO\n",
        "\n",
        "3) SOME TODOS OS NÚMEROS DE 1 A 10\n",
        "\n",
        "4) USANDO O WHILE PERGUNTE AO USUÁRIO QUAL A MELHOR ESCOLHA DE RIBEIRÃO PIRES, ENQUANTO A PESSOA NÃO DIGITAR \"ETEC MCM\", ENQUANTO NÃO DIGITA CERTO ELE VAI INFORMANDO QUE O USUÁRIO ERROU\n",
        "\n",
        "5) Receba um número, verifique se é diferente de zero, caso seja diferente,continue retornando falso até que ele digite esse valor.\n",
        "\n",
        "6) SOMAR NÚMEROS ATÉ QUE O USUÁRIO DIGITE 0\n",
        "\n",
        "7) CRIE UM MENU DE OPÇÕES, COM 3 OPÇÕES,E ELE VAI SOLICITANDO NOVAMENTE A OPÇÕES ATÉ QUE O USUÁRIO ESCOLHA A OPÇÃO SAIR\n",
        "\n",
        "8) Faça um programa que mostre os n termos da Série a seguir e realize o cálculo\n",
        "Solicite ao usuário a quantidade de repetições\n",
        "\n",
        "s = (1/1)+(2/3)+(3/5)+(4/7)+...+...n/m\n",
        "\n",
        "LISTA DO MÁRCIO\n",
        "\n",
        "1) Soma dos números de uma lista\n",
        "Dada a lista numeros = [3, 7, 2, 8, 10], use um for para calcular a soma de todos os elementos.\n",
        "\n",
        "2) Contagem de vogais em uma string\n",
        "Peça uma palavra ao usuário e use um for para contar quantas vogais (a, e, i, o, u) existem.\n",
        "\n",
        "3) Inverter lista usando while\n",
        "Dada a lista nomes = [\"Ana\", \"João\", \"Carlos\", \"Maria\"], use um while para inverter a ordem dos elementos (sem usar reverse() ou slicing).\n",
        "\n",
        "4) Maior número em uma lista\n",
        "Escreva um programa que percorra uma lista de inteiros e encontre o maior valor.\n",
        "\n",
        "5) Remover elementos repetidos de uma lista\n",
        "Usando um for, percorra a lista valores = [1, 2, 2, 3, 4, 4, 5] e crie uma nova lista apenas com elementos únicos.\n",
        "\n",
        "6) Verificar se palavra é palíndromo\n",
        "Peça uma palavra ao usuário e use while ou for para verificar se ela é igual de frente para trás (ex.: \"arara\").\n",
        "\n",
        "7) Contagem regressiva com while\n",
        "\n",
        "Peça ao usuário um número e faça uma contagem regressiva até 0.\n",
        "\n",
        "8) Percorrendo um dicionário de notas\n",
        "Dado o dicionário notas = {\"Ana\": 8, \"Carlos\": 7, \"Maria\": 10}, use um for para exibir cada aluno com sua nota.\n",
        "\n",
        "9)Filtrar números pares de uma lista\n",
        "\n",
        "Dada a lista numeros = [10, 21, 32, 43, 54], use um for para criar uma nova lista contendo apenas os pares.\n",
        "\n",
        "10) Contador de palavras em uma frase\n",
        "Peça ao usuário uma frase, divida em palavras (split()) e use um dicionário para contar quantas vezes cada palavra aparece.\n",
        "Com manipulação de listas, tuplas e dicionários:\n",
        "\n",
        "OUTRA LISTA\n",
        "\n",
        "1) Tuplas - Acesso e Desempacotamento\n",
        "Crie uma tupla contendo três tipos diferentes de dados: um número, uma string e uma lista. Use um laço de repetição para acessar e imprimir cada item da tupla. Além disso, dentro do laço, acesse e imprima o segundo item da lista que está dentro da tupla.\n",
        "\n",
        "2) Cadastro de Pessoas e Análise de Alturas\n",
        "Solicite ao usuário para inserir o nome e a altura de várias pessoas. Preencha um dicionário com essas informações e depois encontre e imprima o nome e a altura da pessoa mais alta e da mais baixa.\n",
        "\n",
        "3) Lista, laços e Condicionais\n",
        "Descrição: Crie uma listacom cinco números inteiros. Use um laço de repetição e uma condicional para imprimir apenas os números que são múltiplos de 3.\n",
        "\n",
        "4) Manipulação de Strings e Condicionais\n",
        "Descrição: Crie uma string com uma frase. Use uma condicional para verificar se a frase contém a palavra \"Python\". Se sim, substitua a palavra \"Python\" por \"programação\" e imprima a nova frase.\n",
        "\n",
        "5) Simulação de Alfândega com Cadastro Dinâmico de Itens usando dicionário\n",
        "Simule uma situação de alfândega onde o funcionário cadastra itens novos encontrados na mala de uma pessoa que veio de uma viagem internacional. Após o cadastro de todos os itens, o programa imprime uma nota com todos os itens e seus preços, calcula o valor total e, se o valor total ultrapassar 500 dólares, calcula o valor de 60% a ser pago.\n",
        "\n",
        "6) Identificação de Palavras Negativas em um Texto\n",
        "Você vai criar um programa em Python para analisar um texto e identificar palavras que expressam pensamentos negativos. Para isso, você usará uma lista de palavras negativas fornecida e verificará quais dessas palavras estão presentes no texto fornecido pelo usuário. Exemplo de palavras negtivas, acrescente mais na lista: # Lista de palavras negativas palavras_negativas = ['triste', 'deprimido', 'ansioso', 'desapontado', 'frustrado']\n"
      ],
      "metadata": {
        "id": "HQE0Vd-bJmny"
      }
    },
    {
      "cell_type": "markdown",
      "source": [
        "1 - MOSTRAR TODOS OS NÚMEROS ÍMPARES DE 1 A 30"
      ],
      "metadata": {
        "id": "uFWwekkuJ9In"
      }
    },
    {
      "cell_type": "code",
      "source": [
        "for i in range(1, 31):\n",
        "    if i % 2 != 0:\n",
        "        print(i)"
      ],
      "metadata": {
        "id": "5STmM0FEJyDu"
      },
      "execution_count": null,
      "outputs": []
    },
    {
      "cell_type": "markdown",
      "source": [
        "Escreva um algoritmo que leia 20 valores inteiros e ao final exiba: a) a soma dos números positivos;\n",
        "b) a quantidade de valores negativos."
      ],
      "metadata": {
        "id": "bgdHFW0IKLMt"
      }
    },
    {
      "cell_type": "code",
      "source": [
        "soma_positivos = 0\n",
        "cont_negativos = 0\n",
        "\n",
        "for _ in range(20):\n",
        "    num = int(input(\"Digite um número: \"))\n",
        "    if num >= 0:\n",
        "        soma_positivos += num\n",
        "    else:\n",
        "        cont_negativos += 1\n",
        "\n",
        "print(\"Soma dos positivos:\", soma_positivos)\n",
        "print(\"Quantidade de negativos:\", cont_negativos)\n"
      ],
      "metadata": {
        "id": "xfG5KSmRKZRw"
      },
      "execution_count": null,
      "outputs": []
    },
    {
      "cell_type": "markdown",
      "source": [
        "2 - CONTADOR DE UM NÚMERO INCIAL E UM NÚMERO FINAL DIGITADOS PELO USUÁRIO"
      ],
      "metadata": {
        "id": "MRdllsU2KdTV"
      }
    },
    {
      "cell_type": "code",
      "source": [
        "inicio = int(input(\"Digite o número inicial: \"))\n",
        "fim = int(input(\"Digite o número final: \"))\n",
        "\n",
        "for i in range(inicio, fim + 1):\n",
        "    print(i)\n"
      ],
      "metadata": {
        "id": "PaqV3vYcKgxX"
      },
      "execution_count": null,
      "outputs": []
    },
    {
      "cell_type": "markdown",
      "source": [
        "3 - SOME TODOS OS NÚMEROS DE 1 A 10"
      ],
      "metadata": {
        "id": "qmfwgX2pKxeS"
      }
    },
    {
      "cell_type": "code",
      "source": [
        "soma = 0\n",
        "for i in range(1, 11):\n",
        "    soma += i\n",
        "print(\"Soma de 1 a 10:\", soma)\n"
      ],
      "metadata": {
        "id": "Bql4XWunKx2S"
      },
      "execution_count": null,
      "outputs": []
    },
    {
      "cell_type": "markdown",
      "source": [
        "4 - USANDO O WHILE PERGUNTE AO USUÁRIO QUAL A MELHOR ESCOLHA DE RIBEIRÃO PIRES, ENQUANTO A PESSOA NÃO DIGITAR \"ETEC MCM\", ENQUANTO NÃO DIGITA CERTO ELE VAI INFORMANDO QUE O USUÁRIO ERROU"
      ],
      "metadata": {
        "id": "NRpDGp3PKyVC"
      }
    },
    {
      "cell_type": "code",
      "source": [
        "resposta = \"\"\n",
        "while resposta != \"ETEC MCM\":\n",
        "    resposta = input(\"Qual a melhor escolha de Ribeirão Pires? \")\n",
        "    if resposta != \"ETEC MCM\":\n",
        "        print(\"Você errou. Tente novamente!\")\n",
        "print(\"Parabéns! Acertou.\")\n"
      ],
      "metadata": {
        "id": "fIOIG47iKylz"
      },
      "execution_count": null,
      "outputs": []
    },
    {
      "cell_type": "markdown",
      "source": [
        "5 - Receba um número, verifique se é diferente de zero, caso seja diferente,continue retornando falso até que ele digite esse valor."
      ],
      "metadata": {
        "id": "T4RdYqddLHDi"
      }
    },
    {
      "cell_type": "code",
      "source": [
        "num = int(input(\"Digite um número (0 para parar): \"))\n",
        "while num != 0:\n",
        "    print(\"Valor diferente de zero. Tente novamente.\")\n",
        "    num = int(input(\"Digite um número (0 para parar): \"))\n",
        "print(\"Você digitou zero. Fim.\")\n"
      ],
      "metadata": {
        "id": "6re9B10PLIUX"
      },
      "execution_count": null,
      "outputs": []
    },
    {
      "cell_type": "markdown",
      "source": [
        "6 - SOMAR NÚMEROS ATÉ QUE O USUÁRIO DIGITE 0"
      ],
      "metadata": {
        "id": "-ajPMO03LJ5s"
      }
    },
    {
      "cell_type": "code",
      "source": [
        "soma = 0\n",
        "while True:\n",
        "    num = int(input(\"Digite um número (0 para sair): \"))\n",
        "    if num == 0:\n",
        "        break\n",
        "    soma += num\n",
        "print(\"Soma total:\", soma)\n"
      ],
      "metadata": {
        "id": "igHDc_j8LNJd"
      },
      "execution_count": null,
      "outputs": []
    },
    {
      "cell_type": "markdown",
      "source": [
        "7 - CRIE UM MENU DE OPÇÕES, COM 3 OPÇÕES,E ELE VAI SOLICITANDO NOVAMENTE A OPÇÕES ATÉ QUE O USUÁRIO ESCOLHA A OPÇÃO SAIR"
      ],
      "metadata": {
        "id": "3bOOTLQELNls"
      }
    },
    {
      "cell_type": "code",
      "source": [
        "while True:\n",
        "    print(\"\\nMenu:\")\n",
        "    print(\"1 - Opção 1\")\n",
        "    print(\"2 - Opção 2\")\n",
        "    print(\"3 - Sair\")\n",
        "    opcao = input(\"Escolha: \")\n",
        "\n",
        "    if opcao == \"1\":\n",
        "        print(\"Você escolheu a opção 1\")\n",
        "    elif opcao == \"2\":\n",
        "        print(\"Você escolheu a opção 2\")\n",
        "    elif opcao == \"3\":\n",
        "        print(\"Saindo...\")\n",
        "        break\n",
        "    else:\n",
        "        print(\"Opção inválida.\")\n"
      ],
      "metadata": {
        "id": "bv9zqzdSLR19"
      },
      "execution_count": null,
      "outputs": []
    },
    {
      "cell_type": "markdown",
      "source": [
        "8 - Faça um programa que mostre os n termos da Série a seguir e realize o cálculo Solicite ao usuário a quantidade de repetições\n",
        "\n",
        "s = (1/1)+(2/3)+(3/5)+(4/7)+...+...n/m"
      ],
      "metadata": {
        "id": "QgcbISOnLXwh"
      }
    },
    {
      "cell_type": "code",
      "source": [
        "n = int(input(\"Quantos termos da série? \"))\n",
        "soma = 0\n",
        "denominador = 1\n",
        "\n",
        "for numerador in range(1, n + 1):\n",
        "    soma += numerador / denominador\n",
        "    denominador += 2\n",
        "\n",
        "print(f\"Soma da série: {soma:.2f}\")\n"
      ],
      "metadata": {
        "colab": {
          "base_uri": "https://localhost:8080/"
        },
        "id": "NTX71ZSeLd2j",
        "outputId": "1e2f9819-0674-44f7-f2ba-cc3d195d2785"
      },
      "execution_count": 1,
      "outputs": [
        {
          "output_type": "stream",
          "name": "stdout",
          "text": [
            "Quantos termos da série? 4\n",
            "Soma da série: 2.84\n"
          ]
        }
      ]
    },
    {
      "cell_type": "markdown",
      "source": [
        "LISTA DO MÁRCIO\n",
        "\n",
        "1 - Soma dos números de uma lista Dada a lista numeros = [3, 7, 2, 8, 10], use um for para calcular a soma de todos os elementos."
      ],
      "metadata": {
        "id": "Uc71FgDELeeB"
      }
    },
    {
      "cell_type": "code",
      "source": [
        "numeros = [3, 7, 2, 8, 10]\n",
        "soma = 0\n",
        "for num in numeros:\n",
        "    soma += num\n",
        "print(\"Soma:\", soma)\n"
      ],
      "metadata": {
        "id": "XlKq9FkhLjW5"
      },
      "execution_count": null,
      "outputs": []
    },
    {
      "cell_type": "markdown",
      "source": [
        "2 - Contagem de vogais em uma string Peça uma palavra ao usuário e use um for para contar quantas vogais (a, e, i, o, u) existem."
      ],
      "metadata": {
        "id": "Il62grbNL3CY"
      }
    },
    {
      "cell_type": "code",
      "source": [
        "palavra = input(\"Digite uma palavra: \").lower()\n",
        "vogais = \"aeiou\"\n",
        "cont = 0\n",
        "for letra in palavra:\n",
        "    if letra in vogais:\n",
        "        cont += 1\n",
        "print(\"Quantidade de vogais:\", cont)\n"
      ],
      "metadata": {
        "id": "ZlB3-z3cL7eI"
      },
      "execution_count": null,
      "outputs": []
    },
    {
      "cell_type": "markdown",
      "source": [
        "3 - Inverter lista usando while Dada a lista nomes = [\"Ana\", \"João\", \"Carlos\", \"Maria\"], use um while para inverter a ordem dos elementos (sem usar reverse() ou slicing)."
      ],
      "metadata": {
        "id": "MkavcNlPL7xA"
      }
    },
    {
      "cell_type": "code",
      "source": [
        "nomes = [\"Ana\", \"João\", \"Carlos\", \"Maria\"]\n",
        "invertida = []\n",
        "i = len(nomes) - 1\n",
        "while i >= 0:\n",
        "    invertida.append(nomes[i])\n",
        "    i -= 1\n",
        "print(invertida)\n"
      ],
      "metadata": {
        "id": "RA5JZKWfMADA"
      },
      "execution_count": null,
      "outputs": []
    },
    {
      "cell_type": "markdown",
      "source": [
        "4 - Maior número em uma lista Escreva um programa que percorra uma lista de inteiros e encontre o maior valor."
      ],
      "metadata": {
        "id": "H0RyPPUaMDAx"
      }
    },
    {
      "cell_type": "code",
      "source": [
        "numeros = [3, 7, 2, 8, 10]\n",
        "maior = numeros[0]\n",
        "for num in numeros:\n",
        "    if num > maior:\n",
        "        maior = num\n",
        "print(\"Maior número:\", maior)\n"
      ],
      "metadata": {
        "id": "zfQL-C7QMEGX"
      },
      "execution_count": null,
      "outputs": []
    },
    {
      "cell_type": "markdown",
      "source": [
        "5 - Remover elementos repetidos de uma lista Usando um for, percorra a lista valores = [1, 2, 2, 3, 4, 4, 5] e crie uma nova lista apenas com elementos únicos."
      ],
      "metadata": {
        "id": "scVlyOWlMEUM"
      }
    },
    {
      "cell_type": "code",
      "source": [
        "valores = [1, 2, 2, 3, 4, 4, 5]\n",
        "unicos = []\n",
        "for valor in valores:\n",
        "    if valor not in unicos:\n",
        "        unicos.append(valor)\n",
        "print(unicos)\n"
      ],
      "metadata": {
        "id": "ElQckY_UMIqL"
      },
      "execution_count": null,
      "outputs": []
    },
    {
      "cell_type": "markdown",
      "source": [
        "6 - Verificar se palavra é palíndromo Peça uma palavra ao usuário e use while ou for para verificar se ela é igual de frente para trás (ex.: \"arara\")."
      ],
      "metadata": {
        "id": "8REheO_cMI3F"
      }
    },
    {
      "cell_type": "code",
      "source": [
        "palavra = input(\"Digite uma palavra: \")\n",
        "invertida = \"\"\n",
        "for letra in palavra[::-1]:\n",
        "    invertida += letra\n",
        "\n",
        "if palavra == invertida:\n",
        "    print(\"É um palíndromo.\")\n",
        "else:\n",
        "    print(\"Não é um palíndromo.\")\n"
      ],
      "metadata": {
        "id": "V2wwYI4rMYHP"
      },
      "execution_count": null,
      "outputs": []
    },
    {
      "cell_type": "markdown",
      "source": [
        "7 - Contagem regressiva com while\n",
        "\n",
        "Peça ao usuário um número e faça uma contagem regressiva até 0."
      ],
      "metadata": {
        "id": "qpzAkZWEMaO3"
      }
    },
    {
      "cell_type": "code",
      "source": [
        "num = int(input(\"Digite um número: \"))\n",
        "while num >= 0:\n",
        "    print(num)\n",
        "    num -= 1\n"
      ],
      "metadata": {
        "id": "HhYH5YlUMeUx"
      },
      "execution_count": null,
      "outputs": []
    },
    {
      "cell_type": "markdown",
      "source": [
        "8 - Percorrendo um dicionário de notas Dado o dicionário notas = {\"Ana\": 8, \"Carlos\": 7, \"Maria\": 10}, use um for para exibir cada aluno com sua nota."
      ],
      "metadata": {
        "id": "-5mDMCclMes3"
      }
    },
    {
      "cell_type": "code",
      "source": [
        "notas = {\"Ana\": 8, \"Carlos\": 7, \"Maria\": 10}\n",
        "for aluno, nota in notas.items():\n",
        "    print(f\"{aluno} tirou nota {nota}\")\n"
      ],
      "metadata": {
        "id": "eDhby1aNMh6E"
      },
      "execution_count": null,
      "outputs": []
    },
    {
      "cell_type": "markdown",
      "source": [
        "9 - Filtrar números pares de uma lista\n",
        "\n",
        "Dada a lista numeros = [10, 21, 32, 43, 54], use um for para criar uma nova lista contendo apenas os pares."
      ],
      "metadata": {
        "id": "-PofEI-7MiGU"
      }
    },
    {
      "cell_type": "code",
      "source": [
        "numeros = [10, 21, 32, 43, 54]\n",
        "pares = []\n",
        "for num in numeros:\n",
        "    if num % 2 == 0:\n",
        "        pares.append(num)\n",
        "print(\"Números pares:\", pares)\n"
      ],
      "metadata": {
        "id": "bDg9IO8sMmGS"
      },
      "execution_count": null,
      "outputs": []
    },
    {
      "cell_type": "markdown",
      "source": [
        "10 - Contador de palavras em uma frase Peça ao usuário uma frase, divida em palavras (split()) e use um dicionário para contar quantas vezes cada palavra aparece. Com manipulação de listas, tuplas e dicionários:"
      ],
      "metadata": {
        "id": "1kJxoOecMme7"
      }
    },
    {
      "cell_type": "code",
      "source": [
        "frase = input(\"Digite uma frase: \")\n",
        "palavras = frase.split()\n",
        "contador = {}\n",
        "\n",
        "for palavra in palavras:\n",
        "    if palavra in contador:\n",
        "        contador[palavra] += 1\n",
        "    else:\n",
        "        contador[palavra] = 1\n",
        "\n",
        "print(contador)\n"
      ],
      "metadata": {
        "id": "Oy1Ih_0-MqB7"
      },
      "execution_count": null,
      "outputs": []
    },
    {
      "cell_type": "markdown",
      "source": [
        "OUTRA LISTA\n",
        "\n",
        "1 - Tuplas - Acesso e Desempacotamento Crie uma tupla contendo três tipos diferentes de dados: um número, uma string e uma lista. Use um laço de repetição para acessar e imprimir cada item da tupla. Além disso, dentro do laço, acesse e imprima o segundo item da lista que está dentro da tupla."
      ],
      "metadata": {
        "id": "aGe7XspwMqS7"
      }
    },
    {
      "cell_type": "code",
      "source": [
        "tupla = (42, \"Python\", [1, 2, 3])\n",
        "\n",
        "for item in tupla:\n",
        "    print(\"Item:\", item)\n",
        "    if isinstance(item, list):\n",
        "        print(\"Segundo item da lista:\", item[1])\n"
      ],
      "metadata": {
        "id": "tfQZ-MStMwW-"
      },
      "execution_count": null,
      "outputs": []
    },
    {
      "cell_type": "markdown",
      "source": [
        "2 - Cadastro de Pessoas e Análise de Alturas Solicite ao usuário para inserir o nome e a altura de várias pessoas. Preencha um dicionário com essas informações e depois encontre e imprima o nome e a altura da pessoa mais alta e da mais baixa."
      ],
      "metadata": {
        "id": "gn9buqo3MxOn"
      }
    },
    {
      "cell_type": "code",
      "source": [
        "pessoas = {}\n",
        "for _ in range(3):\n",
        "    nome = input(\"Nome: \")\n",
        "    altura = float(input(\"Altura: \"))\n",
        "    pessoas[nome] = altura\n",
        "\n",
        "mais_alto = max(pessoas, key=pessoas.get)\n",
        "mais_baixo = min(pessoas, key=pessoas.get)\n",
        "\n",
        "print(f\"Mais alto: {mais_alto} - {pessoas[mais_alto]}m\")\n",
        "print(f\"Mais baixo: {mais_baixo} - {pessoas[mais_baixo]}m\")\n"
      ],
      "metadata": {
        "id": "jZohFQwwN-xo"
      },
      "execution_count": null,
      "outputs": []
    },
    {
      "cell_type": "markdown",
      "source": [
        "3 - Lista, laços e Condicionais Descrição: Crie uma listacom cinco números inteiros. Use um laço de repetição e uma condicional para imprimir apenas os números que são múltiplos de 3."
      ],
      "metadata": {
        "id": "q6lsgTjDM2pe"
      }
    },
    {
      "cell_type": "code",
      "source": [
        "numeros = [5, 9, 12, 7, 15]\n",
        "for num in numeros:\n",
        "    if num % 3 == 0:\n",
        "        print(num)\n"
      ],
      "metadata": {
        "id": "c4YZksGZNA9C"
      },
      "execution_count": null,
      "outputs": []
    },
    {
      "cell_type": "markdown",
      "source": [
        "4 - Manipulação de Strings e Condicionais Descrição: Crie uma string com uma frase. Use uma condicional para verificar se a frase contém a palavra \"Python\". Se sim, substitua a palavra \"Python\" por \"programação\" e imprima a nova frase."
      ],
      "metadata": {
        "id": "v05SPglXNBNp"
      }
    },
    {
      "cell_type": "code",
      "source": [
        "frase = \"Estou aprendendo Python com alegria.\"\n",
        "if \"Python\" in frase:\n",
        "    frase = frase.replace(\"Python\", \"programação\")\n",
        "print(frase)\n"
      ],
      "metadata": {
        "id": "_WPzlPXDNHaz"
      },
      "execution_count": null,
      "outputs": []
    },
    {
      "cell_type": "markdown",
      "source": [
        "5 - Simulação de Alfândega com Cadastro Dinâmico de Itens usando dicionário Simule uma situação de alfândega onde o funcionário cadastra itens novos encontrados na mala de uma pessoa que veio de uma viagem internacional. Após o cadastro de todos os itens, o programa imprime uma nota com todos os itens e seus preços, calcula o valor total e, se o valor total ultrapassar 500 dólares, calcula o valor de 60% a ser pago."
      ],
      "metadata": {
        "id": "k19cMw66NJVa"
      }
    },
    {
      "cell_type": "code",
      "source": [
        "itens = {}\n",
        "total = 0\n",
        "\n",
        "while True:\n",
        "    nome = input(\"Nome do item (ou 'fim'): \")\n",
        "    if nome.lower() == 'fim':\n",
        "        break\n",
        "    preco = float(input(f\"Preço de {nome} em dólares: \"))\n",
        "    itens[nome] = preco\n",
        "    total += preco\n",
        "\n",
        "print(\"\\nNota fiscal:\")\n",
        "for item, preco in itens.items():\n",
        "    print(f\"{item}: ${preco:.2f}\")\n",
        "\n",
        "print(f\"Total: ${total:.2f}\")\n",
        "\n",
        "if total > 500:\n",
        "    imposto = total * 0.6\n",
        "    print(f\"Taxa de alfândega: ${imposto:.2f}\")\n"
      ],
      "metadata": {
        "id": "FxjKJvTTNPAd"
      },
      "execution_count": null,
      "outputs": []
    },
    {
      "cell_type": "markdown",
      "source": [
        "6 - Identificação de Palavras Negativas em um Texto Você vai criar um programa em Python para analisar um texto e identificar palavras que expressam pensamentos negativos. Para isso, você usará uma lista de palavras negativas fornecida e verificará quais dessas palavras estão presentes no texto fornecido pelo usuário. Exemplo de palavras negtivas, acrescente mais na lista: # Lista de palavras negativas palavras_negativas = ['triste', 'deprimido', 'ansioso', 'desapontado', 'frustrado']"
      ],
      "metadata": {
        "id": "bcLhhZ1jNPYd"
      }
    },
    {
      "cell_type": "code",
      "source": [
        "palavras_negativas = ['triste', 'deprimido', 'ansioso', 'desapontado', 'frustrado', 'cansado', 'estressado']\n",
        "texto = input(\"Digite um texto: \").lower()\n",
        "\n",
        "negativas_encontradas = []\n",
        "for palavra in palavras_negativas:\n",
        "    if palavra in texto:\n",
        "        negativas_encontradas.append(palavra)\n",
        "\n",
        "if negativas_encontradas:\n",
        "    print(\"Palavras negativas encontradas:\", negativas_encontradas)\n",
        "else:\n",
        "    print(\"Nenhuma palavra negativa encontrada.\")\n"
      ],
      "metadata": {
        "id": "uf2Yh974NS_n"
      },
      "execution_count": null,
      "outputs": []
    }
  ]
}