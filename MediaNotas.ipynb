{
  "nbformat": 4,
  "nbformat_minor": 0,
  "metadata": {
    "colab": {
      "provenance": [],
      "authorship_tag": "ABX9TyO3OViFcmf1dQq3IRMOime4",
      "include_colab_link": true
    },
    "kernelspec": {
      "name": "python3",
      "display_name": "Python 3"
    },
    "language_info": {
      "name": "python"
    }
  },
  "cells": [
    {
      "cell_type": "markdown",
      "metadata": {
        "id": "view-in-github",
        "colab_type": "text"
      },
      "source": [
        "<a href=\"https://colab.research.google.com/github/FlavioNoimEtec/Programming_Activities/blob/main/MediaNotas.ipynb\" target=\"_parent\"><img src=\"https://colab.research.google.com/assets/colab-badge.svg\" alt=\"Open In Colab\"/></a>"
      ]
    },
    {
      "cell_type": "code",
      "execution_count": null,
      "metadata": {
        "id": "qwhabSJWe4zh"
      },
      "outputs": [],
      "source": [
        "#Entrada\n",
        "p1 = float(input(\"Qual foi sua nota na primeira prova?\"))\n",
        "p2 = float(input(\"Qual foi sua nota na segunda prova?\"))\n",
        "\n",
        "\n",
        "#Processamento\n",
        "media = (p1 + p2)/2\n",
        "\n",
        "\n",
        "\n",
        "#Saída\n",
        "print(\"Sua media é:\", media)"
      ]
    },
    {
      "cell_type": "code",
      "source": [
        "#Entrada\n",
        "valor = float(input(\"Qual o valor da peça?\"))\n",
        "qtde = int(input(\"Quantas peças voçê precisa comprar?\"))\n",
        "\n",
        "#Processamento\n",
        "vt = valor * qtde\n",
        "\n",
        "#Saída\n",
        "print(\"O valor total será de:\", vt)"
      ],
      "metadata": {
        "colab": {
          "base_uri": "https://localhost:8080/"
        },
        "id": "CIsC5Qo_m0ao",
        "outputId": "836ca66d-d2a3-42dc-884f-cfa72cca2d24"
      },
      "execution_count": null,
      "outputs": [
        {
          "output_type": "stream",
          "name": "stdout",
          "text": [
            "Qual o valor da peça?10\n",
            "Quantas peças voçê precisa comprar?2\n",
            "O valor total será de: 20.0\n"
          ]
        }
      ]
    },
    {
      "cell_type": "code",
      "source": [
        "#Entrada\n",
        "num = float(input(\"Digite um número: \"))\n",
        "\n",
        "#Processamento\n",
        "triplo = num * 3\n",
        "\n",
        "#Saída\n",
        "\n",
        "print(\"O triplo do seu número é:\", triplo)"
      ],
      "metadata": {
        "id": "F35jDVZjoAE8"
      },
      "execution_count": null,
      "outputs": []
    },
    {
      "cell_type": "code",
      "source": [
        "#Entrada\n",
        "cel = float(input(\"Quantos graus celsius está fazendo?\"))\n",
        "\n",
        "#Processamento\n",
        "fah = cel * 1.8 + 32\n",
        "\n",
        "#Saída\n",
        "print(\"A temperatura em fahreinheit é:\", fah)"
      ],
      "metadata": {
        "id": "ejWslxWusSSU"
      },
      "execution_count": null,
      "outputs": []
    },
    {
      "cell_type": "code",
      "source": [
        "#Entrada\n",
        "far = float(input(\"Quantos graus em Fahreinheit está fazendo?\"))\n",
        "\n",
        "#Processamento\n",
        "c = (fah-32) / 1.8\n",
        "\n",
        "#Saída\n",
        "print(\"Está fazendo em graus celsius:\", c)"
      ],
      "metadata": {
        "id": "5O8BHDLGv8cv"
      },
      "execution_count": null,
      "outputs": []
    },
    {
      "cell_type": "code",
      "source": [
        "#Entrada\n",
        "km = float(input(\"Quantos kilômetros deseja converter?\"))\n",
        "\n",
        "#Processamento\n",
        "mil = km * 1.609\n",
        "\n",
        "#Saída\n",
        "print(\"Convertendo para milhas, são:\", mil)"
      ],
      "metadata": {
        "id": "BKZ9GLuLzwIk"
      },
      "execution_count": null,
      "outputs": []
    },
    {
      "cell_type": "code",
      "source": [
        "#Entrada\n",
        "mi = float(input(\"Quantas milhas deseja converter?\"))\n",
        "\n",
        "#Processamento\n",
        "klm = mi / 1.609\n",
        "\n",
        "#Saída\n",
        "print(\"Convertendo para kilomêtros, são:\", klm)\n"
      ],
      "metadata": {
        "id": "5DTCujuM19cj"
      },
      "execution_count": null,
      "outputs": []
    },
    {
      "cell_type": "markdown",
      "source": [
        "Calculadora (À parte) Feita por: Flávio e Davi Luís\n"
      ],
      "metadata": {
        "id": "P1L6QOfbzqFn"
      }
    },
    {
      "cell_type": "code",
      "source": [
        "import math\n",
        "\n",
        "conta = input(\"Qual operaçao?\")\n",
        "\n",
        "\n",
        "if conta == \"divisão\":\n",
        "  div1 = float(input(\"Qual é o dividido?\"))\n",
        "  div2 = float(input(\"Qual é o divisor?\"))\n",
        "\n",
        "  final = div1 / div2\n",
        "\n",
        "  print(final)\n",
        "\n",
        "\n",
        "if conta == \"multiplicação\":\n",
        "  mul1 = float(input(\"Qual é o multiplicado?\"))\n",
        "  mul2 = float(input(\"Qual é o multiplicador?\"))\n",
        "\n",
        "  final2 = mul1 * mul2\n",
        "\n",
        "  print(final2)\n",
        "\n",
        "if conta == \"soma\":\n",
        "  som1 = float(input(\"Qual é o primeiro numero?\"))\n",
        "  som2 = float(input(\"Qual é o segundo numero?\"))\n",
        "\n",
        "  final3 = som1 + som2\n",
        "\n",
        "  print(final3)\n",
        "\n",
        "if conta == \"subtração\":\n",
        "  sub1 = float(input(\"Qual é o primeiro numero?\"))\n",
        "  sub2 = float(input(\"Qual é o segundo numero?\"))\n",
        "\n",
        "  final4 = sub1 - sub2\n",
        "\n",
        "  print(final4)\n",
        "\n",
        "if conta == \"porcentagem\":\n",
        "  por1 = float(input(\"Qual é a porcentagem?\"))\n",
        "  por2 = float(input(\"Qual é o total?\"))\n",
        "\n",
        "  final5 = (por1 / 100) * por2\n",
        "\n",
        "  print(final5)\n",
        "\n",
        "if conta == \"potenciação\":\n",
        "  pot1 = float(input(\"Qual é a base?\"))\n",
        "  pot2 = float(input(\"Qual é o expoente?\"))\n",
        "\n",
        "  final6 = pot1 ** pot2\n",
        "\n",
        "  print(final6)\n",
        "\n",
        "if conta == \"radiciação\":\n",
        "\n",
        "  numero = int(input(\"Coloque a base\"))\n",
        "  raiz_quadrada = math.sqrt(numero)\n",
        "  print(raiz_quadrada)"
      ],
      "metadata": {
        "id": "niJbKvqxysuv",
        "colab": {
          "base_uri": "https://localhost:8080/"
        },
        "outputId": "07e43b43-7660-4667-dd00-a91357063fd6"
      },
      "execution_count": null,
      "outputs": [
        {
          "output_type": "stream",
          "name": "stdout",
          "text": [
            "Qual operaçao?divisão\n",
            "Qual é o dividido?10\n",
            "Qual é o divisor?0.5\n",
            "20.0\n"
          ]
        }
      ]
    }
  ]
}