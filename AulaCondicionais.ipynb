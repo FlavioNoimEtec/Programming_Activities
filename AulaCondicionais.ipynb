{
  "nbformat": 4,
  "nbformat_minor": 0,
  "metadata": {
    "colab": {
      "provenance": [],
      "authorship_tag": "ABX9TyMCZL9g1TTy/Oz5/BWLUSQs",
      "include_colab_link": true
    },
    "kernelspec": {
      "name": "python3",
      "display_name": "Python 3"
    },
    "language_info": {
      "name": "python"
    }
  },
  "cells": [
    {
      "cell_type": "markdown",
      "metadata": {
        "id": "view-in-github",
        "colab_type": "text"
      },
      "source": [
        "<a href=\"https://colab.research.google.com/github/FlavioNoimEtec/Programming_Activities/blob/main/AulaCondicionais.ipynb\" target=\"_parent\"><img src=\"https://colab.research.google.com/assets/colab-badge.svg\" alt=\"Open In Colab\"/></a>"
      ]
    },
    {
      "cell_type": "markdown",
      "source": [
        "Par ou Ímpar"
      ],
      "metadata": {
        "id": "GmGinKqdK6IL"
      }
    },
    {
      "cell_type": "markdown",
      "source": [
        "Usuário e Senha\n"
      ],
      "metadata": {
        "id": "yvX0ceanK_mf"
      }
    },
    {
      "cell_type": "code",
      "source": [
        "insruser = str(input(\"Crie seu usuário: \"))\n",
        "insrsenha = input(\"Crie uma senha: \")\n",
        "\n",
        "\n",
        "usr = input(\"Qual seu usuário?: \")\n",
        "senha = input(\"Qual sua senha: \")\n",
        "if insrsenha == senha:\n",
        "  if insruser == usr:\n",
        "    print(\"Usuário Correto\")\n",
        "\n",
        "else:\n",
        "  print(\"Usuário Inválido\")\n",
        "\n"
      ],
      "metadata": {
        "colab": {
          "base_uri": "https://localhost:8080/"
        },
        "id": "YqZZ7MOsFFzH",
        "outputId": "db443787-6890-4928-8bf7-c9f1a6d1969c"
      },
      "execution_count": null,
      "outputs": [
        {
          "output_type": "stream",
          "name": "stdout",
          "text": [
            "Crie seu usuário: davi2\n",
            "Crie uma senha: 123\n",
            "Qual seu usuário?: davi2\n",
            "Qual sua senha: 345\n",
            "Usuário Inválido\n"
          ]
        }
      ]
    },
    {
      "cell_type": "markdown",
      "source": [
        "Apenas Usuário"
      ],
      "metadata": {
        "id": "Gu2_IqOWLDcn"
      }
    },
    {
      "cell_type": "code",
      "source": [
        "user = str(input(\"Digite seu usuário: \"))\n",
        "\n",
        "if user == \"Flavio\":\n",
        "  print(\"Usuário Correto\")\n",
        "else:\n",
        "    print(\"Usuário Inválido\")\n"
      ],
      "metadata": {
        "colab": {
          "base_uri": "https://localhost:8080/"
        },
        "collapsed": true,
        "id": "0GsM-Tx6GPWa",
        "outputId": "0ed54640-2b59-4b7c-a5dd-8ec20d4ba2ab"
      },
      "execution_count": null,
      "outputs": [
        {
          "output_type": "stream",
          "name": "stdout",
          "text": [
            "Digite seu usuário: Davi\n",
            "Usuário Inválido\n"
          ]
        }
      ]
    },
    {
      "cell_type": "markdown",
      "source": [
        "Ano Bissexto"
      ],
      "metadata": {
        "id": "fZzpIfqXLr3i"
      }
    },
    {
      "cell_type": "code",
      "source": [
        "ano = int(input(\"Digite o ano: \"))\n",
        "if ano%4==0:\n",
        "  print(\"Esse ano é Bissexto\")\n",
        "else:\n",
        "    print(\"Esse ano não é Bissexto\")"
      ],
      "metadata": {
        "colab": {
          "base_uri": "https://localhost:8080/"
        },
        "id": "ioEK96W9LvOi",
        "outputId": "16c06419-056b-4691-dfb0-d6b853d54a79"
      },
      "execution_count": null,
      "outputs": [
        {
          "output_type": "stream",
          "name": "stdout",
          "text": [
            "Digite o ano: 2018\n",
            "Esse ano não é Bissexto\n"
          ]
        }
      ]
    },
    {
      "cell_type": "markdown",
      "source": [
        "Idade"
      ],
      "metadata": {
        "id": "kpvbHnlEMhU3"
      }
    },
    {
      "cell_type": "markdown",
      "source": [
        "Intrvalo de Números"
      ],
      "metadata": {
        "id": "DCjORnS2MuwE"
      }
    },
    {
      "cell_type": "code",
      "source": [
        "num = float(input(\"Diga teu número: \"))\n",
        "if num in range(1,100):\n",
        "  print(\"Esse número está entre 1 e 100\")\n",
        "else:\n",
        "  print(\"Esse número não está entre 1 e 100\")"
      ],
      "metadata": {
        "colab": {
          "base_uri": "https://localhost:8080/"
        },
        "id": "UL3cjqCgMwr0",
        "outputId": "96cd3253-f8c0-4987-eab7-6cd731223ee8"
      },
      "execution_count": null,
      "outputs": [
        {
          "output_type": "stream",
          "name": "stdout",
          "text": [
            "Diga teu número: 246\n",
            "Esse número não está entre 1 e 100\n"
          ]
        }
      ]
    },
    {
      "cell_type": "markdown",
      "source": [
        "Par ou Ímpar - Exercício 1"
      ],
      "metadata": {
        "id": "bLvMo1lSS50w"
      }
    },
    {
      "cell_type": "code",
      "execution_count": null,
      "metadata": {
        "colab": {
          "base_uri": "https://localhost:8080/"
        },
        "id": "QCI9FD6lED7G",
        "outputId": "5ab4b97e-808d-4342-aa3c-417afb790b8d"
      },
      "outputs": [
        {
          "output_type": "stream",
          "name": "stdout",
          "text": [
            "digite um numero: 247\n",
            "Esse número é impar\n"
          ]
        }
      ],
      "source": [
        "num = int(input(\"digite um numero: \"))\n",
        "if num%2==0:\n",
        "    print(\"Esse número é par\")\n",
        "else:\n",
        "  print(\"Esse número é impar\")"
      ]
    },
    {
      "cell_type": "markdown",
      "source": [
        "Calculo da Média - Exercício 2"
      ],
      "metadata": {
        "id": "qjvWt3iqRyxj"
      }
    },
    {
      "cell_type": "code",
      "source": [
        "nota1 = float(input(\"Digite sua primeira nota: \"))\n",
        "nota2 = float(input(\"Digite a segunda nota: \"))\n",
        "nota3 = float(input(\"Digite a terceira nota: \"))\n",
        "\n",
        "calculomedia = (nota1 + nota2 + nota3)/3\n",
        "if calculomedia>=6:\n",
        "  print(\"Você foi Aprovado!\")\n",
        "else:\n",
        "  print(\"Você foi reprovado but\")\n"
      ],
      "metadata": {
        "colab": {
          "base_uri": "https://localhost:8080/"
        },
        "id": "NhcBZ1f5R1LS",
        "outputId": "505be0d7-b3fa-4272-e0e8-7d88a7cdd420"
      },
      "execution_count": null,
      "outputs": [
        {
          "output_type": "stream",
          "name": "stdout",
          "text": [
            "Digite sua primeira nota: 6\n",
            "Digite a segunda nota: 6\n",
            "Digite a terceira nota: 6\n",
            "Você foi Aprovado!\n"
          ]
        }
      ]
    },
    {
      "cell_type": "markdown",
      "source": [
        "Verificação de Maioridade - Execício 3"
      ],
      "metadata": {
        "id": "3-lByJSxTCpY"
      }
    },
    {
      "cell_type": "code",
      "source": [
        "idade = int(input('Digite sua idade:'))\n",
        "if idade >= 18:\n",
        "  print('Voce é maior de idade!')\n",
        "else:\n",
        "  print('Voce é menor de idade')"
      ],
      "metadata": {
        "id": "LanG9QjXMlcV"
      },
      "execution_count": null,
      "outputs": []
    },
    {
      "cell_type": "markdown",
      "source": [
        " Múltiplo de 5 - Exercício 4"
      ],
      "metadata": {
        "id": "IjQ3oqNYTOXm"
      }
    },
    {
      "cell_type": "code",
      "source": [
        "num = int(input(\"Digite o número: \"))\n",
        "if num%5==0:\n",
        "  print(\"Esse número é múltiplo de 5\")\n",
        "else:\n",
        "    print(\"Esse número não é múltiplo de 5\")"
      ],
      "metadata": {
        "colab": {
          "base_uri": "https://localhost:8080/"
        },
        "id": "Xw5A-9qTTQKG",
        "outputId": "bf10af1b-9b90-449a-a004-115f3dd92890"
      },
      "execution_count": null,
      "outputs": [
        {
          "output_type": "stream",
          "name": "stdout",
          "text": [
            "Digite o número: 7\n",
            "Esse número não é múltiplo de 5\n"
          ]
        }
      ]
    },
    {
      "cell_type": "markdown",
      "source": [
        "Cálculo de IMC - Exercício 5"
      ],
      "metadata": {
        "id": "O_vY4vliTpAC"
      }
    },
    {
      "cell_type": "code",
      "source": [
        "peso = float(input(\"Digite seu peso (em quilos):\"))\n",
        "altura = float(input(\"Digite sua altura (em metros):\"))\n",
        "altura2 = altura * altura\n",
        "imc = peso / altura2\n",
        "if imc <= 18.5:\n",
        "  print(\"Você está abaixo do peso\")\n",
        "if 18.5 <= imc <= 24.9:\n",
        "  print(\"Você está no peso certo\")\n",
        "if 25 <= imc <= 29.9:\n",
        "  print(\"Você está em sobrepeso\")\n",
        "if 30 <= imc <= 34.9:\n",
        "  print(\"Você tem obesidade classe I\")\n",
        "if 35 <= imc <= 39.9:\n",
        "  print(\"Você tem obesidade classe II\")\n",
        "if imc >= 40:\n",
        "  print(\"Você tem obesidade classe III\")"
      ],
      "metadata": {
        "colab": {
          "base_uri": "https://localhost:8080/"
        },
        "id": "yVufncpHTtxy",
        "outputId": "b637cdb9-92ff-4f96-eaf4-68730c6ff6a3"
      },
      "execution_count": null,
      "outputs": [
        {
          "output_type": "stream",
          "name": "stdout",
          "text": [
            "Digite seu peso (em quilos):65\n",
            "Digite sua altura (em metros):184\n",
            "Você está abaixo do peso\n"
          ]
        }
      ]
    },
    {
      "cell_type": "markdown",
      "source": [
        " Número Positivo, Negativo ou Zero - Exercício 6"
      ],
      "metadata": {
        "id": "4U-TpXzqUlGT"
      }
    },
    {
      "cell_type": "code",
      "source": [
        "num = float(input(\"Digite um numero: \"))\n",
        "if num < 0 :\n",
        "  print(\"Esse numero é negativo\")\n",
        "if num == 0 :\n",
        "  print(\"Esse numero é zero\")\n",
        "if num > 0 :\n",
        "  print(\"Esse numero é positivo\")"
      ],
      "metadata": {
        "colab": {
          "base_uri": "https://localhost:8080/"
        },
        "id": "Nt7m4rhOUpuL",
        "outputId": "ca585309-9678-40ea-cba4-f1c97090993b"
      },
      "execution_count": null,
      "outputs": [
        {
          "output_type": "stream",
          "name": "stdout",
          "text": [
            "Digite um numero:10\n",
            "Esse numero é positivo\n"
          ]
        }
      ]
    },
    {
      "cell_type": "markdown",
      "source": [
        "Calculadora Simples - Exercício 7"
      ],
      "metadata": {
        "id": "JvpjzgoDVb32"
      }
    },
    {
      "cell_type": "code",
      "source": [
        "import math\n",
        "\n",
        "conta = input(\"Qual operaçao?\")\n",
        "\n",
        "\n",
        "if conta == \"divisão\":\n",
        "  div1 = float(input(\"Qual é o dividido?\"))\n",
        "  div2 = float(input(\"Qual é o divisor?\"))\n",
        "\n",
        "  final = div1 / div2\n",
        "\n",
        "  print(final)\n",
        "\n",
        "\n",
        "if conta == \"multiplicação\":\n",
        "  mul1 = float(input(\"Qual é o multiplicado?\"))\n",
        "  mul2 = float(input(\"Qual é o multiplicador?\"))\n",
        "\n",
        "  final2 = mul1 * mul2\n",
        "\n",
        "  print(final2)\n",
        "\n",
        "if conta == \"soma\":\n",
        "  som1 = float(input(\"Qual é o primeiro numero?\"))\n",
        "  som2 = float(input(\"Qual é o segundo numero?\"))\n",
        "\n",
        "  final3 = som1 + som2\n",
        "\n",
        "  print(final3)\n",
        "\n",
        "if conta == \"subtração\":\n",
        "  sub1 = float(input(\"Qual é o primeiro numero?\"))\n",
        "  sub2 = float(input(\"Qual é o segundo numero?\"))\n",
        "\n",
        "  final4 = sub1 - sub2\n",
        "\n",
        "  print(final4)\n",
        "\n",
        "if conta == \"porcentagem\":\n",
        "  por1 = float(input(\"Qual é a porcentagem?\"))\n",
        "  por2 = float(input(\"Qual é o total?\"))\n",
        "\n",
        "  final5 = (por1 / 100) * por2\n",
        "\n",
        "  print(final5)\n",
        "\n",
        "if conta == \"potenciação\":\n",
        "  pot1 = float(input(\"Qual é a base?\"))\n",
        "  pot2 = float(input(\"Qual é o expoente?\"))\n",
        "\n",
        "  final6 = pot1 ** pot2\n",
        "\n",
        "  print(final6)\n",
        "\n",
        "if conta == \"radiciação\":\n",
        "\n",
        "  numero = int(input(\"Coloque a base\"))\n",
        "  raiz_quadrada = math.sqrt(numero)\n",
        "  print(raiz_quadrada)"
      ],
      "metadata": {
        "colab": {
          "base_uri": "https://localhost:8080/"
        },
        "id": "GdLnbc-rVjM1",
        "outputId": "ecdedc4f-2ce6-46ed-94c0-05a35410ee84"
      },
      "execution_count": null,
      "outputs": [
        {
          "output_type": "stream",
          "name": "stdout",
          "text": [
            "Qual operaçao?radiciação\n",
            "Coloque a base144\n",
            "12.0\n"
          ]
        }
      ]
    },
    {
      "cell_type": "markdown",
      "source": [
        " Contagem Crescente com For - Exercício 8"
      ],
      "metadata": {
        "id": "nab2R0k4Wqlm"
      }
    },
    {
      "cell_type": "code",
      "source": [
        "#Professor Mandou Pular Essa\n"
      ],
      "metadata": {
        "id": "NZjQA0bHWxT-"
      },
      "execution_count": null,
      "outputs": []
    },
    {
      "cell_type": "markdown",
      "source": [
        " Contagem Regressiva - Exercício 9"
      ],
      "metadata": {
        "id": "n5l68G6KX9J_"
      }
    },
    {
      "cell_type": "code",
      "source": [
        "#Professor Mandou Pular Essa"
      ],
      "metadata": {
        "id": "FTiD8cW0X_mm"
      },
      "execution_count": null,
      "outputs": []
    },
    {
      "cell_type": "markdown",
      "source": [
        "Tabuada de um Número - Exercício 10\n"
      ],
      "metadata": {
        "id": "savdZVT1D7db"
      }
    },
    {
      "cell_type": "code",
      "source": [
        "num = int(input(\"Peça um número e eu exibirei sua tabuada de multiplicação (de 1 a 10): \"))\n",
        "numero = num\n",
        "tabuada1 = num*1\n",
        "tabuada2 = num*2\n",
        "tabuada3 = num*3\n",
        "tabuada4 = num*4\n",
        "tabuada5 = num*5\n",
        "tabuada6 = num*6\n",
        "tabuada7 = num*7\n",
        "tabuada8 = num*8\n",
        "tabuada9 = num*9\n",
        "tabuada10 = num*10\n",
        "\n",
        "print(tabuada1,\n",
        "tabuada2,\n",
        "tabuada3,\n",
        "tabuada4,\n",
        "tabuada5,\n",
        "tabuada6,\n",
        "tabuada7,\n",
        "tabuada8,\n",
        "tabuada9,\n",
        "tabuada10 )"
      ],
      "metadata": {
        "id": "Mle428qUEEGC"
      },
      "execution_count": null,
      "outputs": []
    },
    {
      "cell_type": "markdown",
      "source": [
        "Soma de 1 a 100 - Exercício 11\n"
      ],
      "metadata": {
        "id": "woA1mkYHGV6m"
      }
    },
    {
      "cell_type": "code",
      "source": [
        "total = 0\n",
        "for numero in range(1, 101):\n",
        "    total += numero\n",
        "print(total)"
      ],
      "metadata": {
        "id": "HlsveyOnGcFG"
      },
      "execution_count": null,
      "outputs": []
    },
    {
      "cell_type": "markdown",
      "source": [
        "Verificação de Número Primo - Exercício 12\n"
      ],
      "metadata": {
        "id": "tC6qxDKiJpcF"
      }
    },
    {
      "cell_type": "code",
      "source": [
        "num = int(input(\"Digite um número:\"))\n",
        "\n",
        "\n",
        "if num%2 == 0:\n",
        "  print(\"Esse número não é primo\")\n",
        "else:\n",
        "  print(\"Esse número é primo\")"
      ],
      "metadata": {
        "colab": {
          "base_uri": "https://localhost:8080/"
        },
        "id": "I2gTItEvJ09P",
        "outputId": "35d87655-2957-47bf-c901-ccca0a3c623f"
      },
      "execution_count": 64,
      "outputs": [
        {
          "output_type": "stream",
          "name": "stdout",
          "text": [
            "Digite um número:3\n",
            "Esse número é primo\n"
          ]
        }
      ]
    },
    {
      "cell_type": "markdown",
      "source": [
        "Busca em Lista - Exercício 13"
      ],
      "metadata": {
        "id": "Gc22kM4zNICM"
      }
    },
    {
      "cell_type": "code",
      "source": [
        "num = float(input(\"Digite qualquer número de 1 a 10: \"))\n",
        "if num in range(1,11):\n",
        "  print(\"Esse número está na lista!\")\n",
        "else:\n",
        "  print(\"Esse número não está na lista...\")"
      ],
      "metadata": {
        "colab": {
          "base_uri": "https://localhost:8080/"
        },
        "id": "_rGjJzNnNO6r",
        "outputId": "b88e4037-dc74-49bc-9784-64a40fe6f861"
      },
      "execution_count": 61,
      "outputs": [
        {
          "output_type": "stream",
          "name": "stdout",
          "text": [
            "Digite qualquer número de 1 a 10: 0\n",
            "Esse número não está na lista...\n"
          ]
        }
      ]
    },
    {
      "cell_type": "markdown",
      "source": [
        "Jogo de Adivinhação - Exercício 14"
      ],
      "metadata": {
        "id": "KdWqZ3_8OZ6b"
      }
    },
    {
      "cell_type": "code",
      "source": [
        "import random\n",
        "aleatorio = random.randint(1, 10)\n",
        "adivinha = int(input(\"Adivinhe o número escolhido aleatoriamente entre 1 e 10: \"))\n",
        "\n",
        "if adivinha == aleatorio:\n",
        "  print(\"Você acertou!\")\n",
        "else:\n",
        "  print(\"Você errou...\")"
      ],
      "metadata": {
        "colab": {
          "base_uri": "https://localhost:8080/"
        },
        "id": "ueBuFUlkOjQH",
        "outputId": "48c78f29-0097-4465-8b1b-4a3c9d8801ed"
      },
      "execution_count": 85,
      "outputs": [
        {
          "output_type": "stream",
          "name": "stdout",
          "text": [
            "Adivinhe o número escolhido aleatoriamente entre 1 e 10: 10\n",
            "Você errou...\n"
          ]
        }
      ]
    }
  ]
}