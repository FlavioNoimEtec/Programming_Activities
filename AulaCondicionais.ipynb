{
  "nbformat": 4,
  "nbformat_minor": 0,
  "metadata": {
    "colab": {
      "provenance": [],
      "authorship_tag": "ABX9TyNF6vzl6yX+UZeWDVOp3w+H",
      "include_colab_link": true
    },
    "kernelspec": {
      "name": "python3",
      "display_name": "Python 3"
    },
    "language_info": {
      "name": "python"
    }
  },
  "cells": [
    {
      "cell_type": "markdown",
      "metadata": {
        "id": "view-in-github",
        "colab_type": "text"
      },
      "source": [
        "<a href=\"https://colab.research.google.com/github/FlavioNoimEtec/Programming_Activities/blob/main/AulaCondicionais.ipynb\" target=\"_parent\"><img src=\"https://colab.research.google.com/assets/colab-badge.svg\" alt=\"Open In Colab\"/></a>"
      ]
    },
    {
      "cell_type": "markdown",
      "source": [
        "Par ou Ímpar"
      ],
      "metadata": {
        "id": "GmGinKqdK6IL"
      }
    },
    {
      "cell_type": "markdown",
      "source": [
        "Usuário e Senha\n"
      ],
      "metadata": {
        "id": "yvX0ceanK_mf"
      }
    },
    {
      "cell_type": "code",
      "source": [
        "insruser = str(input(\"Crie seu usuário: \"))\n",
        "insrsenha = input(\"Crie uma senha: \")\n",
        "\n",
        "\n",
        "usr = input(\"Qual seu usuário?: \")\n",
        "senha = input(\"Qual sua senha: \")\n",
        "if insrsenha == senha:\n",
        "  if insruser == usr:\n",
        "    print(\"Usuário Correto\")\n",
        "\n",
        "else:\n",
        "  print(\"Usuário Inválido\")\n",
        "\n"
      ],
      "metadata": {
        "colab": {
          "base_uri": "https://localhost:8080/"
        },
        "id": "YqZZ7MOsFFzH",
        "outputId": "db443787-6890-4928-8bf7-c9f1a6d1969c"
      },
      "execution_count": 31,
      "outputs": [
        {
          "output_type": "stream",
          "name": "stdout",
          "text": [
            "Crie seu usuário: davi2\n",
            "Crie uma senha: 123\n",
            "Qual seu usuário?: davi2\n",
            "Qual sua senha: 345\n",
            "Usuário Inválido\n"
          ]
        }
      ]
    },
    {
      "cell_type": "markdown",
      "source": [
        "Apenas Usuário"
      ],
      "metadata": {
        "id": "Gu2_IqOWLDcn"
      }
    },
    {
      "cell_type": "code",
      "source": [
        "user = str(input(\"Digite seu usuário: \"))\n",
        "\n",
        "if user == \"Flavio\":\n",
        "  print(\"Usuário Correto\")\n",
        "else:\n",
        "    print(\"Usuário Inválido\")\n"
      ],
      "metadata": {
        "colab": {
          "base_uri": "https://localhost:8080/"
        },
        "collapsed": true,
        "id": "0GsM-Tx6GPWa",
        "outputId": "0ed54640-2b59-4b7c-a5dd-8ec20d4ba2ab"
      },
      "execution_count": 34,
      "outputs": [
        {
          "output_type": "stream",
          "name": "stdout",
          "text": [
            "Digite seu usuário: Davi\n",
            "Usuário Inválido\n"
          ]
        }
      ]
    },
    {
      "cell_type": "markdown",
      "source": [
        "Ano Bissexto"
      ],
      "metadata": {
        "id": "fZzpIfqXLr3i"
      }
    },
    {
      "cell_type": "code",
      "source": [
        "ano = int(input(\"Digite o ano: \"))\n",
        "if ano%4==0:\n",
        "  print(\"Esse ano é Bissexto\")\n",
        "else:\n",
        "    print(\"Esse ano não é Bissexto\")"
      ],
      "metadata": {
        "colab": {
          "base_uri": "https://localhost:8080/"
        },
        "id": "ioEK96W9LvOi",
        "outputId": "16c06419-056b-4691-dfb0-d6b853d54a79"
      },
      "execution_count": 42,
      "outputs": [
        {
          "output_type": "stream",
          "name": "stdout",
          "text": [
            "Digite o ano: 2018\n",
            "Esse ano não é Bissexto\n"
          ]
        }
      ]
    },
    {
      "cell_type": "markdown",
      "source": [
        "Idade"
      ],
      "metadata": {
        "id": "kpvbHnlEMhU3"
      }
    },
    {
      "cell_type": "markdown",
      "source": [
        "Intrvalo de Números"
      ],
      "metadata": {
        "id": "DCjORnS2MuwE"
      }
    },
    {
      "cell_type": "code",
      "source": [
        "num = float(input(\"Diga teu número: \"))\n",
        "if num in range(1,100):\n",
        "  print(\"Esse número está entre 1 e 100\")\n",
        "else:\n",
        "  print(\"Esse número não está entre 1 e 100\")"
      ],
      "metadata": {
        "colab": {
          "base_uri": "https://localhost:8080/"
        },
        "id": "UL3cjqCgMwr0",
        "outputId": "f5e56e87-8ea1-4c16-f840-e77c81f02e84"
      },
      "execution_count": 46,
      "outputs": [
        {
          "output_type": "stream",
          "name": "stdout",
          "text": [
            "Diga teu número: 101\n",
            "Esse número não está entre 1 e 100\n"
          ]
        }
      ]
    },
    {
      "cell_type": "markdown",
      "source": [
        "Par ou Ímpar - Exercício 1"
      ],
      "metadata": {
        "id": "bLvMo1lSS50w"
      }
    },
    {
      "cell_type": "code",
      "execution_count": null,
      "metadata": {
        "colab": {
          "base_uri": "https://localhost:8080/"
        },
        "id": "QCI9FD6lED7G",
        "outputId": "25e98789-d084-4405-8322-1c8feedaa15c"
      },
      "outputs": [
        {
          "output_type": "stream",
          "name": "stdout",
          "text": [
            "digite um numero: 3\n",
            "Esse número é impar\n"
          ]
        }
      ],
      "source": [
        "num = int(input(\"digite um numero: \"))\n",
        "if num%2==0:\n",
        "    print(\"Esse número é par\")\n",
        "else:\n",
        "  print(\"Esse número é impar\")"
      ]
    },
    {
      "cell_type": "markdown",
      "source": [
        "Calculo da Média - Exercício 2"
      ],
      "metadata": {
        "id": "qjvWt3iqRyxj"
      }
    },
    {
      "cell_type": "code",
      "source": [
        "nota1 = float(input(\"Digite sua primeira nota: \"))\n",
        "nota2 = float(input(\"Digite a segunda nota: \"))\n",
        "nota3 = float(input(\"Digite a terceira nota: \"))\n",
        "\n",
        "calculomedia = (nota1 + nota2 + nota3)/3\n",
        "if calculomedia>=6:\n",
        "  print(\"Você foi Aprovado!\")\n",
        "else:\n",
        "  print(\"Você foi reprovado but\")\n"
      ],
      "metadata": {
        "colab": {
          "base_uri": "https://localhost:8080/"
        },
        "id": "NhcBZ1f5R1LS",
        "outputId": "505be0d7-b3fa-4272-e0e8-7d88a7cdd420"
      },
      "execution_count": 48,
      "outputs": [
        {
          "output_type": "stream",
          "name": "stdout",
          "text": [
            "Digite sua primeira nota: 6\n",
            "Digite a segunda nota: 6\n",
            "Digite a terceira nota: 6\n",
            "Você foi Aprovado!\n"
          ]
        }
      ]
    },
    {
      "cell_type": "markdown",
      "source": [
        "Verificação de Maioridade - Execício 3"
      ],
      "metadata": {
        "id": "3-lByJSxTCpY"
      }
    },
    {
      "cell_type": "code",
      "source": [
        "idade = int(input('Digite sua idade:'))\n",
        "if idade >= 18:\n",
        "  print('Voce é maior de idade!')\n",
        "else:\n",
        "  print('Voce é menor de idade')"
      ],
      "metadata": {
        "id": "LanG9QjXMlcV"
      },
      "execution_count": null,
      "outputs": []
    },
    {
      "cell_type": "markdown",
      "source": [
        " Múltiplo de 5 - Exercício 4"
      ],
      "metadata": {
        "id": "IjQ3oqNYTOXm"
      }
    },
    {
      "cell_type": "code",
      "source": [
        "num = int(input(\"Digite o número: \"))\n",
        "if num%5==0:\n",
        "  print(\"Esse número é múltiplo de 5\")\n",
        "else:\n",
        "    print(\"Esse número não é múltiplo de 5\")"
      ],
      "metadata": {
        "colab": {
          "base_uri": "https://localhost:8080/"
        },
        "id": "Xw5A-9qTTQKG",
        "outputId": "bf10af1b-9b90-449a-a004-115f3dd92890"
      },
      "execution_count": 51,
      "outputs": [
        {
          "output_type": "stream",
          "name": "stdout",
          "text": [
            "Digite o número: 7\n",
            "Esse número não é múltiplo de 5\n"
          ]
        }
      ]
    },
    {
      "cell_type": "markdown",
      "source": [
        "Cálculo de IMC - Exercício 5"
      ],
      "metadata": {
        "id": "O_vY4vliTpAC"
      }
    },
    {
      "cell_type": "code",
      "source": [
        "peso = float(input(\"Digite seu peso (em quilos):\"))\n",
        "altura = float(input(\"Digite sua altura (em metros):\"))\n",
        "altura2 = altura * altura\n",
        "imc = peso / altura2\n",
        "if imc <= 18.5:\n",
        "  print(\"Você está abaixo do peso\")\n",
        "if 18.5 <= imc <= 24.9:\n",
        "  print(\"Você está no peso certo\")\n",
        "if 25 <= imc <= 29.9:\n",
        "  print(\"Você está em sobrepeso\")\n",
        "if 30 <= imc <= 34.9:\n",
        "  print(\"Você tem obesidade classe I\")\n",
        "if 35 <= imc <= 39.9:\n",
        "  print(\"Você tem obesidade classe II\")\n",
        "if imc >= 40:\n",
        "  print(\"Você tem obesidade classe III\")\n"
      ],
      "metadata": {
        "colab": {
          "base_uri": "https://localhost:8080/"
        },
        "id": "yVufncpHTtxy",
        "outputId": "721de71e-b8e0-4094-f019-e81b373b892c"
      },
      "execution_count": 54,
      "outputs": [
        {
          "output_type": "stream",
          "name": "stdout",
          "text": [
            "Digite seu peso (em quilos):69\n",
            "Digite sua altura (em metros):1.71\n",
            "Você está no peso certo\n"
          ]
        }
      ]
    },
    {
      "cell_type": "markdown",
      "source": [
        " Número Positivo, Negativo ou Zero - Exercício 6"
      ],
      "metadata": {
        "id": "4U-TpXzqUlGT"
      }
    },
    {
      "cell_type": "code",
      "source": [
        "num = float(input(\"Digite um numero: \"))\n",
        "if num < 0 :\n",
        "  print(\"Esse numero é negativo\")\n",
        "if num == 0 :\n",
        "  print(\"Esse numero é zero\")\n",
        "if num > 0 :\n",
        "  print(\"Esse numero é positivo\")"
      ],
      "metadata": {
        "colab": {
          "base_uri": "https://localhost:8080/"
        },
        "id": "Nt7m4rhOUpuL",
        "outputId": "ca585309-9678-40ea-cba4-f1c97090993b"
      },
      "execution_count": 57,
      "outputs": [
        {
          "output_type": "stream",
          "name": "stdout",
          "text": [
            "Digite um numero:10\n",
            "Esse numero é positivo\n"
          ]
        }
      ]
    },
    {
      "cell_type": "markdown",
      "source": [
        "Calculadora Simples - Exercício 7"
      ],
      "metadata": {
        "id": "JvpjzgoDVb32"
      }
    },
    {
      "cell_type": "code",
      "source": [
        "import math\n",
        "\n",
        "conta = input(\"Qual operaçao?\")\n",
        "\n",
        "\n",
        "if conta == \"divisão\":\n",
        "  div1 = float(input(\"Qual é o dividido?\"))\n",
        "  div2 = float(input(\"Qual é o divisor?\"))\n",
        "\n",
        "  final = div1 / div2\n",
        "\n",
        "  print(final)\n",
        "\n",
        "\n",
        "if conta == \"multiplicação\":\n",
        "  mul1 = float(input(\"Qual é o multiplicado?\"))\n",
        "  mul2 = float(input(\"Qual é o multiplicador?\"))\n",
        "\n",
        "  final2 = mul1 * mul2\n",
        "\n",
        "  print(final2)\n",
        "\n",
        "if conta == \"soma\":\n",
        "  som1 = float(input(\"Qual é o primeiro numero?\"))\n",
        "  som2 = float(input(\"Qual é o segundo numero?\"))\n",
        "\n",
        "  final3 = som1 + som2\n",
        "\n",
        "  print(final3)\n",
        "\n",
        "if conta == \"subtração\":\n",
        "  sub1 = float(input(\"Qual é o primeiro numero?\"))\n",
        "  sub2 = float(input(\"Qual é o segundo numero?\"))\n",
        "\n",
        "  final4 = sub1 - sub2\n",
        "\n",
        "  print(final4)\n",
        "\n",
        "if conta == \"porcentagem\":\n",
        "  por1 = float(input(\"Qual é a porcentagem?\"))\n",
        "  por2 = float(input(\"Qual é o total?\"))\n",
        "\n",
        "  final5 = (por1 / 100) * por2\n",
        "\n",
        "  print(final5)\n",
        "\n",
        "if conta == \"potenciação\":\n",
        "  pot1 = float(input(\"Qual é a base?\"))\n",
        "  pot2 = float(input(\"Qual é o expoente?\"))\n",
        "\n",
        "  final6 = pot1 ** pot2\n",
        "\n",
        "  print(final6)\n",
        "\n",
        "if conta == \"radiciação\":\n",
        "\n",
        "  numero = int(input(\"Coloque a base\"))\n",
        "  raiz_quadrada = math.sqrt(numero)\n",
        "  print(raiz_quadrada)"
      ],
      "metadata": {
        "colab": {
          "base_uri": "https://localhost:8080/"
        },
        "id": "GdLnbc-rVjM1",
        "outputId": "23459755-ecb3-458c-c13e-0f67a99bfade"
      },
      "execution_count": 60,
      "outputs": [
        {
          "output_type": "stream",
          "name": "stdout",
          "text": [
            "Qual operaçao?radiciação\n",
            "Coloque a base100\n",
            "10.0\n"
          ]
        }
      ]
    },
    {
      "cell_type": "markdown",
      "source": [
        " Contagem Crescente com For - Exercício 8"
      ],
      "metadata": {
        "id": "nab2R0k4Wqlm"
      }
    },
    {
      "cell_type": "code",
      "source": [
        "num = range(1,11)\n",
        "for num in range(1,11):\n",
        "  print(num)\n"
      ],
      "metadata": {
        "colab": {
          "base_uri": "https://localhost:8080/"
        },
        "id": "NZjQA0bHWxT-",
        "outputId": "1aad74d5-428f-4b50-945d-34a382977ac8"
      },
      "execution_count": 69,
      "outputs": [
        {
          "output_type": "stream",
          "name": "stdout",
          "text": [
            "1\n",
            "2\n",
            "3\n",
            "4\n",
            "5\n",
            "6\n",
            "7\n",
            "8\n",
            "9\n",
            "10\n"
          ]
        }
      ]
    },
    {
      "cell_type": "markdown",
      "source": [
        " Contagem Regressiva - Exercício 9"
      ],
      "metadata": {
        "id": "n5l68G6KX9J_"
      }
    },
    {
      "cell_type": "code",
      "source": [
        "num = range(10,0)\n",
        "for num in range(10,0):\n",
        "  print(num)"
      ],
      "metadata": {
        "id": "FTiD8cW0X_mm"
      },
      "execution_count": 73,
      "outputs": []
    }
  ]
}